{
 "cells": [
  {
   "cell_type": "markdown",
   "metadata": {},
   "source": [
    "2019.04.21 AI讀書會 Ian Fan ianfan0704@gamil.com"
   ]
  },
  {
   "cell_type": "markdown",
   "metadata": {},
   "source": [
    "# 數據分析流程： \n",
    "## ＊提出問題 -> 數據前處理-> 特徵工程 -> 建立模型 -> 調整參數 -> 上線預測"
   ]
  },
  {
   "cell_type": "markdown",
   "metadata": {},
   "source": [
    "# 提出問題："
   ]
  },
  {
   "cell_type": "markdown",
   "metadata": {},
   "source": [
    "## HW1-1:\n",
    "\n",
    "## 請上 Kaggle, 在 Competitions 或 Dataset 中找一組競賽或資料並寫下：\n",
    "\n",
    "### 1.你選的這組資料為何重要?\n",
    "自1999年發布以來，這一經典的手寫圖像數據集已成為分類算法基準測試的基礎。影像辨識手寫數字0~9，供入門機器學習實驗各種技巧的敲門磚，涵蓋DNN、CNN等等神經網路的架構，激勵函數、正則化等等的運用，練習用不同演算法，以更高效方法，獲得更高準確率的結果。\n",
    "\n",
    "### 2.資料從何而來?\n",
    "NIST 數據集來自美國國家標準與技術研究所, National Institute of Standards and Technology (NIST)。\n",
    "MNIST 是 Mixed National Institute of Standards and Technology database 的簡稱 (http://yann.lecun.com/exdb/mnist/)\n",
    "MNIST 是一個數據庫，這個數據庫中存儲了各個國家地區，不同標準的手寫數字，並且是存儲的內容都是結果標準化處理了的，專門用於關於手寫體識別方面的技術應用。\n",
    "訓練集 (training set) 由來自 250 個不同人手寫的數字構成, 其中 50% 是高中學生, 50% 來自人口普查局 (the Census Bureau) 的工作人員.\n",
    "測試集(test set) 也是同樣比例的手寫數字數據。\n",
    "\n",
    "### 3.蒐集而來的資料型態為何?\n",
    "皆為結構化資料:數值、類別資料。\n",
    "訓練集、測試集的圖片x：二維一列陣列由784（28*28）浮點數構成。\n",
    "訓練集、測試集的已標注label：二維一列陣列由10個one hot表示0~9的數字。\n",
    "\n",
    "### 4.這組資料想解決的問題如何評估? \n",
    "以辨識0~9作為最終輸出。\n",
    "正確率越高（1.0為最高，0.0為最低）代表模型預測⼒越高。"
   ]
  },
  {
   "cell_type": "markdown",
   "metadata": {},
   "source": [
    "## HW1-2:\n",
    "\n",
    "## 想像你經營一個自由載客車隊，你希望能透過數據分析以提升業績，請你思考並描述你如何規劃整體的分析/解決方案：\n",
    "\n",
    "### 1. 核心問題為何 (tips：如何定義 「提升業績 & 你的假設」)\n",
    "提升載客率（降低空車率），提升載客動能，將推升營收獲利同步成長\n",
    "\n",
    "### 2. 資料從何而來 (tips：哪些資料可能會對你想問的問題產生影響 & 資料如何蒐集)\n",
    "採用大數據的載客雷達\n",
    "\n",
    "### 3. 蒐集而來的資料型態為何\n",
    "數值\n",
    "地圖座標、載客需求密度、單趟載客距離、載客時間、空車時間\n",
    "\n",
    "### 4. 你要回答的問題，其如何評估 (tips：你的假設如何驗證)\n",
    "降低空車率，縮短載客時間，增加平均每車每天載客趟數，增加單月營收"
   ]
  },
  {
   "cell_type": "markdown",
   "metadata": {},
   "source": [
    "## HW1-3: \n",
    "### Loss為什麼不用 mean absolute error，而要用 mean squared error？\n",
    "(正則在迴歸的使用： L1, L2, L3...)\n",
    "\n",
    "傳統機器學習二大問題：迴歸、分類（多類、多標籤）\n",
    "Input Layer -> N.N. -> Output Layer -> Loss -> Optimizer\n",
    "Regression 的 Loss 用 mean absolute error"
   ]
  },
  {
   "cell_type": "code",
   "execution_count": 1,
   "metadata": {},
   "outputs": [],
   "source": [
    "import numpy as np\n",
    "\n",
    "# Regression: mean_squared_error\n",
    "# y yp 是 numpy array\n",
    "def mean_squared_error(y, yp):\n",
    "#     mse = sum((y - yp)**2) / len(y)\n",
    "    mse = sum(pow((y - yp), 2)) / len(y)\n",
    "    return mse\n",
    "\n",
    "def mean_absolute_error(y, yp):\n",
    "    mae = sum(abs(y - yp)) / len(y)\n",
    "    return mae\n",
    "\n",
    "# Classification: \n",
    "#     multi-class: categorical_crossentropy\n",
    "#     multi-label: binary_crossentropy"
   ]
  },
  {
   "cell_type": "code",
   "execution_count": 2,
   "metadata": {},
   "outputs": [
    {
     "name": "stdout",
     "output_type": "stream",
     "text": [
      "[1, 2, 3, 4, 5, 6]\n",
      "[5 7 9]\n",
      "\n",
      "[1, 2, 3, 1, 2, 3]\n",
      "[2 4 6]\n"
     ]
    }
   ],
   "source": [
    "# python list 跟 numpy array 的不同\n",
    "print([1,2,3] + [4,5,6])\n",
    "print(np.array([1,2,3]) + np.array([4,5,6]))\n",
    "print()\n",
    "print([1,2,3] * 2)\n",
    "print(np.array([1,2,3]) * 2)"
   ]
  },
  {
   "cell_type": "code",
   "execution_count": 3,
   "metadata": {},
   "outputs": [
    {
     "name": "stdout",
     "output_type": "stream",
     "text": [
      "10\n",
      "2.5\n",
      "7\n",
      "3\n"
     ]
    }
   ],
   "source": [
    "print(5*2)\n",
    "print(5/2)\n",
    "print(5+2)\n",
    "print(5-2)"
   ]
  },
  {
   "cell_type": "code",
   "execution_count": 4,
   "metadata": {},
   "outputs": [
    {
     "name": "stdout",
     "output_type": "stream",
     "text": [
      "25\n",
      "2\n",
      "7\n",
      "7\n"
     ]
    }
   ],
   "source": [
    "print(5**2)\n",
    "print(5//2)\n",
    "print(5++2)\n",
    "print(5--2)"
   ]
  },
  {
   "cell_type": "code",
   "execution_count": 5,
   "metadata": {},
   "outputs": [
    {
     "name": "stdout",
     "output_type": "stream",
     "text": [
      "[1 4 9]\n",
      "14\n",
      "4.666666666666667\n"
     ]
    }
   ],
   "source": [
    "a = np.array([1,2,3])\n",
    "print(a**2)\n",
    "print(sum(a**2))\n",
    "print(sum(a**2)/len(a))"
   ]
  },
  {
   "cell_type": "code",
   "execution_count": 6,
   "metadata": {},
   "outputs": [
    {
     "name": "stdout",
     "output_type": "stream",
     "text": [
      "3\n",
      "3\n"
     ]
    }
   ],
   "source": [
    "print(abs(3))\n",
    "print(abs(-3))"
   ]
  },
  {
   "cell_type": "code",
   "execution_count": 7,
   "metadata": {},
   "outputs": [
    {
     "name": "stdout",
     "output_type": "stream",
     "text": [
      "9\n",
      "3.0\n"
     ]
    }
   ],
   "source": [
    "print(pow(3, 2))\n",
    "print(pow(9, 1/2))"
   ]
  },
  {
   "cell_type": "code",
   "execution_count": 8,
   "metadata": {},
   "outputs": [
    {
     "name": "stdout",
     "output_type": "stream",
     "text": [
      "6\n",
      "6\n"
     ]
    }
   ],
   "source": [
    "print(sum([1,2,3]))\n",
    "print(np.sum(np.array([1,2,3])))"
   ]
  },
  {
   "cell_type": "code",
   "execution_count": 9,
   "metadata": {},
   "outputs": [
    {
     "name": "stdout",
     "output_type": "stream",
     "text": [
      "[1, 2, 3]\n",
      "[1, 2, 3]\n"
     ]
    }
   ],
   "source": [
    "print([1,2,3])\n",
    "print([1,2,3,])"
   ]
  },
  {
   "cell_type": "code",
   "execution_count": null,
   "metadata": {},
   "outputs": [],
   "source": []
  }
 ],
 "metadata": {
  "kernelspec": {
   "display_name": "Python 3",
   "language": "python",
   "name": "python3"
  },
  "language_info": {
   "codemirror_mode": {
    "name": "ipython",
    "version": 3
   },
   "file_extension": ".py",
   "mimetype": "text/x-python",
   "name": "python",
   "nbconvert_exporter": "python",
   "pygments_lexer": "ipython3",
   "version": "3.6.8"
  }
 },
 "nbformat": 4,
 "nbformat_minor": 2
}
