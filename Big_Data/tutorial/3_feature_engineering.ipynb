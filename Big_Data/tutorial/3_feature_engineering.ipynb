{
 "cells": [
  {
   "cell_type": "markdown",
   "metadata": {},
   "source": [
    "2019 AI讀書會 Ian Fan ianfan0704@gamil.com"
   ]
  },
  {
   "cell_type": "markdown",
   "metadata": {},
   "source": [
    "# 數據分析流程： \n",
    "## 提出問題 -> 數據前處理-> ＊特徵工程 -> 建立模型 -> 調整參數 -> 上線預測"
   ]
  },
  {
   "cell_type": "markdown",
   "metadata": {},
   "source": [
    "### pipeline 和 end-to-end 兩種特徵工程的差異：\n",
    "・pipeline 人工設計的特徵<br/>\n",
    "・end-to-end 自動化特徵工程，基於大量素材由算法自動找出關係<br/>\n",
    "・對於大部分生活中的機器學習項目，由於沒有足夠的訓練數據支撐，我們還無法完全信任算法自動生成的特徵，因而基於人工經驗的特徵工程依然是目前的主流"
   ]
  },
  {
   "cell_type": "markdown",
   "metadata": {},
   "source": [
    "### 學習特徵工程的現況：\n",
    "・特徵工程是機器學習，甚至是深度學習中最為重要的一部分，卻是課本上最不願意講的一部分，特徵工程往往是打開數據密碼的鑰匙，是數據科學中最有創造力的一部分<br/>\n",
    "・許多業界的項目由於商業機密、隱私性的考慮，很少會透露底層的入模特徵和計算邏輯，使得目前網絡上關於特徵工程細節的文章少之又少"
   ]
  },
  {
   "cell_type": "markdown",
   "metadata": {},
   "source": [
    "### 什麼是特徵工程：\n",
    "\n",
    "・「特徵工程是將原始數據轉化為特徵的過程，這些特徵可以更好地向預測模型描述潛在問題，從而提高模型對未見數據的準確性。」 -Jason Brownlee博士<br/>\n",
    "・數據和特徵決定了機器學習的上限，而模型和算法只是逼近這個上限而已<br/>\n",
    "・經典例子：BMI指數，BMI=體重/(身高^2)。通過BMI就能刻畫一個人身材如何；甚至能將原來的特徵體重、身高捨去"
   ]
  },
  {
   "cell_type": "markdown",
   "metadata": {},
   "source": [
    "# 特徵工程：\n",
    "## 特徵類型、特徵組合、特徵選擇、特徵評估"
   ]
  },
  {
   "cell_type": "code",
   "execution_count": 1,
   "metadata": {},
   "outputs": [],
   "source": [
    "import numpy as np\n",
    "\n",
    "import pandas as pd\n",
    "from pandas import DataFrame\n",
    "from pandas import Series\n",
    "from pandas import Index\n",
    "\n",
    "import matplotlib.pyplot as plt\n",
    "%matplotlib inline\n",
    "import seaborn as sns\n",
    "import missingno\n",
    "\n",
    "from sklearn.preprocessing import OneHotEncoder, LabelEncoder\n",
    "from sklearn.preprocessing import MinMaxScaler, scale, Normalizer\n",
    "from sklearn.model_selection import cross_val_score, train_test_split\n",
    "from sklearn.ensemble import GradientBoostingClassifier, GradientBoostingRegressor\n",
    "from sklearn.ensemble import RandomForestClassifier\n",
    "from sklearn.linear_model import LogisticRegression, LinearRegression\n",
    "from sklearn.linear_model import Lasso\n",
    "from sklearn.metrics import roc_curve\n",
    "\n",
    "from scipy import stats\n",
    "\n",
    "from featexp import get_univariate_plots\n",
    "from featexp import get_trend_stats\n",
    "\n",
    "import os\n",
    "import copy\n",
    "import datetime\n",
    "import math\n",
    "from itertools import compress"
   ]
  },
  {
   "cell_type": "code",
   "execution_count": 2,
   "metadata": {},
   "outputs": [],
   "source": [
    "def evaluate_classification(df, target):\n",
    "    train_X = df\n",
    "    train_Y = target\n",
    "    columns = train_X.columns\n",
    "    \n",
    "    estimator = GradientBoostingClassifier()\n",
    "    estimator.fit(train_X, train_Y)\n",
    "    importance = pd.Series(data=estimator.feature_importances_, index=columns)\n",
    "    importance = importance.sort_values(ascending=False)\n",
    "    print('GradientBoostingClassifier:')\n",
    "    print('importance:')\n",
    "    print(importance)\n",
    "    print()\n",
    "    cv = min(train_Y.value_counts().iloc[-1], 5)\n",
    "    if cv >= 2:\n",
    "        print('cross_val_score:', cross_val_score(estimator, train_X, train_Y, cv=cv).mean())\n",
    "    \n",
    "#     estimator = LogisticRegression(solver='liblinear') # old behavior\n",
    "    estimator = LogisticRegression(solver='lbfgs') # new behavior\n",
    "    estimator.fit(train_X, train_Y)\n",
    "    cv = min(train_Y.value_counts().iloc[-1], 5)\n",
    "    if cv >= 2:\n",
    "        print('\\nLogisticRegression:')\n",
    "        print('cross_val_score:', cross_val_score(estimator, train_X, train_Y, cv=cv).mean())\n",
    "    \n",
    "def evaluate_regression(df, target):\n",
    "    train_X = df\n",
    "    train_Y = target\n",
    "    columns = train_X.columns\n",
    "    \n",
    "    estimator = GradientBoostingRegressor()\n",
    "    estimator.fit(train_X, train_Y)\n",
    "    importance = pd.Series(data=estimator.feature_importances_, index=columns)\n",
    "    importance = importance.sort_values(ascending=False)\n",
    "    print('GradientBoostingRegressor:')\n",
    "    print('importance:')\n",
    "    print(importance)\n",
    "    print()\n",
    "    cv = min(train_Y.value_counts().iloc[-1], 5)\n",
    "    if cv >= 2:\n",
    "        print('cross_val_score:', cross_val_score(estimator, train_X, train_Y, cv=cv).mean())\n",
    "    \n",
    "    estimator = LinearRegression()\n",
    "    estimator.fit(train_X, train_Y)\n",
    "    cv = min(train_Y.value_counts().iloc[-1], 5)\n",
    "    if cv >= 2:\n",
    "        print('\\nLinearRegression')\n",
    "        print('cross_val_score:', cross_val_score(estimator, train_X, train_Y, cv=cv).mean())\n",
    "        \n",
    "def get_target(df, target_col):\n",
    "    target = None\n",
    "    if target_col in df.columns:\n",
    "        target = df[target_col]\n",
    "#         print('target:')\n",
    "#         print(target.head())\n",
    "    return target\n",
    "\n",
    "def drop_cols(dataframe, drop_cols):\n",
    "    df = dataframe.copy()\n",
    "    for c in drop_cols:\n",
    "        if c in df.columns:\n",
    "            df.drop(c, axis=1, inplace=True)\n",
    "    return df\n",
    "\n",
    "# 需要把類別型與數值型特徵都加入, 故使用最簡版的特徵工程\n",
    "def simple_encoder(dataframe):\n",
    "    df = dataframe.copy()\n",
    "    LEncoder = LabelEncoder()\n",
    "    MMEncoder = MinMaxScaler()\n",
    "    for c in df.columns:\n",
    "        df[c] = df[c].fillna(-1)\n",
    "        if df[c].dtype == 'object':\n",
    "            df[c] = LEncoder.fit_transform(list(df[c].values))\n",
    "        df[c] = MMEncoder.fit_transform(df[c].values.reshape(-1, 1))\n",
    "#     print('simple_encoder:')\n",
    "#     print(df)\n",
    "    return df"
   ]
  },
  {
   "cell_type": "markdown",
   "metadata": {},
   "source": [
    "# 特徵類型：\n",
    "## 數值、類別、時間、空間"
   ]
  },
  {
   "cell_type": "markdown",
   "metadata": {},
   "source": [
    "## 數值：\n",
    "## 清洗數據：缺失值、錯誤值、離群值、偏態\n",
    "## 處理量綱不一：Min-Max標準化、Z-Score標準化、Normalizer歸一化"
   ]
  },
  {
   "cell_type": "markdown",
   "metadata": {},
   "source": [
    "### 清洗數據：\n",
    "### 缺失值、錯誤值、離群值、偏態"
   ]
  },
  {
   "cell_type": "code",
   "execution_count": 3,
   "metadata": {},
   "outputs": [
    {
     "name": "stdout",
     "output_type": "stream",
     "text": [
      "     A     B  Target\n",
      "0  6.0 -10.2       1\n",
      "1  NaN  -3.1       1\n",
      "2  7.0   2.8       1\n",
      "3  5.0   9.6       0\n",
      "4  6.0   NaN       0\n",
      "5  2.0   NaN       0\n",
      "6  3.0   NaN       0\n",
      "7  NaN  12.5       1\n"
     ]
    }
   ],
   "source": [
    "df = DataFrame({'A': [6, np.nan, 7, 5, 6, 2, 3, np.nan],\n",
    "                'B': [-10.2, -3.1, 2.8, 9.6, np.nan, np.nan, np.nan, 12.5],\n",
    "                'Target': [1, 1, 1, 0, 0, 0, 0, 1]}\n",
    "              )\n",
    "print(df)"
   ]
  },
  {
   "cell_type": "markdown",
   "metadata": {},
   "source": [
    "### 缺失值：\n",
    "### 刪除缺失行、數據補齊、不處理\n",
    "LightGBM和XGBoost都能將NaN作為數據的一部分進行學習，所以不需要處理缺失值。其他情況下，我們需要處理缺失值"
   ]
  },
  {
   "cell_type": "code",
   "execution_count": 4,
   "metadata": {},
   "outputs": [
    {
     "name": "stdout",
     "output_type": "stream",
     "text": [
      "刪除缺失行\n",
      "     A     B  Target\n",
      "0  6.0 -10.2       1\n",
      "1  7.0   2.8       1\n",
      "2  5.0   9.6       0\n",
      "\n",
      "GradientBoostingClassifier:\n",
      "importance:\n",
      "A    0.512357\n",
      "B    0.487643\n",
      "dtype: float64\n",
      "\n"
     ]
    }
   ],
   "source": [
    "print('刪除缺失行')\n",
    "df_ = df.copy()\n",
    "df_.dropna(inplace=True)\n",
    "df_.reset_index(drop=True, inplace=True)\n",
    "print(df_)\n",
    "print()\n",
    "\n",
    "train_Y = get_target(df_, 'Target')\n",
    "train_X = drop_cols(df_, ['Target'])\n",
    "train_X = simple_encoder(train_X)\n",
    "evaluate_classification(train_X, train_Y)"
   ]
  },
  {
   "cell_type": "code",
   "execution_count": 5,
   "metadata": {},
   "outputs": [
    {
     "name": "stdout",
     "output_type": "stream",
     "text": [
      "空值補-1\n",
      "GradientBoostingClassifier:\n",
      "importance:\n",
      "A    0.527204\n",
      "B    0.472796\n",
      "dtype: float64\n",
      "\n",
      "cross_val_score: 0.25\n",
      "\n",
      "LogisticRegression:\n",
      "cross_val_score: 0.0\n",
      "\n",
      "\n",
      "空值補0\n",
      "GradientBoostingClassifier:\n",
      "importance:\n",
      "B    0.517351\n",
      "A    0.482649\n",
      "dtype: float64\n",
      "\n",
      "cross_val_score: 0.25\n",
      "\n",
      "LogisticRegression:\n",
      "cross_val_score: 0.125\n",
      "\n",
      "\n",
      "空值補mean\n",
      "GradientBoostingClassifier:\n",
      "importance:\n",
      "B    0.538271\n",
      "A    0.461729\n",
      "dtype: float64\n",
      "\n",
      "cross_val_score: 0.5\n",
      "\n",
      "LogisticRegression:\n",
      "cross_val_score: 0.625\n",
      "\n",
      "\n",
      "空值補mode\n",
      "GradientBoostingClassifier:\n",
      "importance:\n",
      "A    0.8\n",
      "B    0.2\n",
      "dtype: float64\n",
      "\n",
      "cross_val_score: 0.625\n",
      "\n",
      "LogisticRegression:\n",
      "cross_val_score: 0.625\n"
     ]
    }
   ],
   "source": [
    "train_Y = get_target(df, 'Target')\n",
    "df_ = drop_cols(df, ['Target'])\n",
    "\n",
    "print('空值補-1')\n",
    "train_X = df_.fillna(-1)\n",
    "\n",
    "train_X = simple_encoder(train_X)\n",
    "evaluate_classification(train_X, train_Y)\n",
    "\n",
    "print('\\n')\n",
    "\n",
    "print('空值補0')\n",
    "train_X = df_.fillna(0)\n",
    "\n",
    "train_X = simple_encoder(train_X)\n",
    "evaluate_classification(train_X, train_Y)\n",
    "\n",
    "print('\\n')\n",
    "\n",
    "print('空值補mean')\n",
    "train_X = df_.copy()\n",
    "for col in train_X.columns:\n",
    "    train_X[col].fillna(train_X[col].mean(), inplace=True)\n",
    "    \n",
    "train_X = simple_encoder(train_X)\n",
    "evaluate_classification(train_X, train_Y)\n",
    "\n",
    "print('\\n')\n",
    "\n",
    "print('空值補mode')\n",
    "train_X = df_.copy()\n",
    "for col in train_X.columns:\n",
    "    train_X[col].fillna(train_X[col].mode().values[0], inplace=True)\n",
    "    \n",
    "train_X = simple_encoder(train_X)\n",
    "evaluate_classification(train_X, train_Y)"
   ]
  },
  {
   "cell_type": "markdown",
   "metadata": {},
   "source": [
    "### 離群值\n",
    "### 去除離群值、調整離群值"
   ]
  },
  {
   "cell_type": "code",
   "execution_count": 6,
   "metadata": {},
   "outputs": [
    {
     "name": "stdout",
     "output_type": "stream",
     "text": [
      "      A\n",
      "0 -1000\n",
      "1     0\n",
      "2     5\n",
      "3     2\n",
      "4     1\n",
      "5     3\n",
      "6    10\n",
      "7  1000\n"
     ]
    }
   ],
   "source": [
    "df = DataFrame({'A': [-1000, 0, 5, 2, 1, 3, 10, 1000]})\n",
    "print(df)"
   ]
  },
  {
   "cell_type": "code",
   "execution_count": 7,
   "metadata": {},
   "outputs": [
    {
     "data": {
      "image/png": "[encoded data removed]",
      "text/plain": [
       "<Figure size 432x288 with 1 Axes>"
      ]
     },
     "metadata": {
      "needs_background": "light"
     },
     "output_type": "display_data"
    }
   ],
   "source": [
    "df_ = df.copy()\n",
    "plt.scatter(df_.index, df_['A'].sort_values(ascending=True).values)\n",
    "plt.show()"
   ]
  },
  {
   "cell_type": "code",
   "execution_count": 8,
   "metadata": {},
   "outputs": [
    {
     "name": "stdout",
     "output_type": "stream",
     "text": [
      "    A\n",
      "0   0\n",
      "1   0\n",
      "2   5\n",
      "3   2\n",
      "4   1\n",
      "5   3\n",
      "6  10\n",
      "7  10\n"
     ]
    },
    {
     "data": {
      "image/png": "[encoded data removed]",
      "text/plain": [
       "<Figure size 432x288 with 1 Axes>"
      ]
     },
     "metadata": {
      "needs_background": "light"
     },
     "output_type": "display_data"
    }
   ],
   "source": [
    "# 調整離群值在適合的範圍內\n",
    "df_ = df.copy()\n",
    "\n",
    "df_['A'][df_['A'] > 10] = 10\n",
    "df_['A'][df_['A'] < 0] = 0\n",
    "print(df_)\n",
    "\n",
    "plt.scatter(df_.index, df_['A'].sort_values(ascending=True).values)\n",
    "plt.show()"
   ]
  },
  {
   "cell_type": "code",
   "execution_count": 9,
   "metadata": {},
   "outputs": [
    {
     "name": "stdout",
     "output_type": "stream",
     "text": [
      "    A\n",
      "0   0\n",
      "1   5\n",
      "2   2\n",
      "3   1\n",
      "4   3\n",
      "5  10\n"
     ]
    },
    {
     "data": {
      "image/png": "[encoded data removed]",
      "text/plain": [
       "<Figure size 432x288 with 1 Axes>"
      ]
     },
     "metadata": {
      "needs_background": "light"
     },
     "output_type": "display_data"
    }
   ],
   "source": [
    "# 捨棄離群值\n",
    "df_ = df.copy()\n",
    "df_ = df_[(df_['A'] >= 0) & (df_['A'] <= 10)]\n",
    "df_.reset_index(drop=True, inplace=True)\n",
    "print(df_)\n",
    "\n",
    "plt.scatter(df_.index, df_['A'].sort_values(ascending=True).values)\n",
    "plt.show()"
   ]
  },
  {
   "cell_type": "markdown",
   "metadata": {},
   "source": [
    "### 偏態\n",
    "### log1p降偏態、box-cox降偏態\n",
    "數據需要是正數<br/>\n",
    "數據變換後符合正態分佈"
   ]
  },
  {
   "cell_type": "code",
   "execution_count": 10,
   "metadata": {},
   "outputs": [
    {
     "name": "stdout",
     "output_type": "stream",
     "text": [
      "                A\n",
      "count   99.000000\n",
      "mean    25.951925\n",
      "std     34.544409\n",
      "min    -10.000000\n",
      "25%      8.050000\n",
      "50%     15.245800\n",
      "75%     30.672900\n",
      "max    300.000000\n"
     ]
    },
    {
     "data": {
      "image/png": "[encoded data removed]",
      "text/plain": [
       "<Figure size 432x288 with 1 Axes>"
      ]
     },
     "metadata": {
      "needs_background": "light"
     },
     "output_type": "display_data"
    }
   ],
   "source": [
    "df = DataFrame({'A': [-10., 300., 35.5, 21.075, 31.3875, 7.225, 7.8792, 7.8958, 27.7208, 7.75, 10.5, 82.1708, 52, 7.2292, 8.05, 18, 11.2417, 9.475, 21, 7.8958, 41.5792, 7.8792, 8.05, 15.5, 7.75, 7.25, 71.2833, 7.925, 53.1, 8.05, 8.458, 51.862, 21.075, 11.133, 30.0708, 16.7, 26.55, 8.05, 31.275, 7.8542, 16., 29.125, 13, 18, 7.225, 26, 13, 8.0292, 21.6792, 17.8, 39.6875, 7.8, 76.7292, 26, 61.9792, 35.5, 10.5, 7.2292, 27.75, 46.9, 7.2292, 80, 83.475, 27.9, 27.7208, 15.2458, 10.5, 8.1583, 7.925, 8.6625, 10.5, 46.9, 73.5, 14.4542, 56.4958, 7.65, 7.8958, 8.05, 29, 12.475, 9, 9.5, 7.7875, 47.1, 10.5, 15.85, 34.375, 8.05, 8.05, 8.05, 7.8542, 61.175, 20.575, 7.25, 8.05, 34.6542, 63.3583, 23, 26.]})\n",
    "print(df.describe())\n",
    "sns.distplot(df['A'])\n",
    "plt.show()"
   ]
  },
  {
   "cell_type": "code",
   "execution_count": 11,
   "metadata": {},
   "outputs": [
    {
     "data": {
      "image/png": "[encoded data removed]",
      "text/plain": [
       "<Figure size 432x288 with 1 Axes>"
      ]
     },
     "metadata": {
      "needs_background": "light"
     },
     "output_type": "display_data"
    }
   ],
   "source": [
    "df_ = df.copy()\n",
    "# if df_['A'].min() <= 0:\n",
    "#     df_['A'] = df_['A'].apply(lambda x: x + abs(np.min(x)) + 1)\n",
    "df_['A'][df_['A'] <= 0] = 1\n",
    "\n",
    "# log1p\n",
    "df_['A'] = np.log1p(df_['A'])\n",
    "\n",
    "sns.distplot(df_['A'])\n",
    "plt.show()"
   ]
  },
  {
   "cell_type": "code",
   "execution_count": 12,
   "metadata": {},
   "outputs": [
    {
     "data": {
      "image/png": "[encoded data removed]",
      "text/plain": [
       "<Figure size 432x288 with 1 Axes>"
      ]
     },
     "metadata": {
      "needs_background": "light"
     },
     "output_type": "display_data"
    }
   ],
   "source": [
    "df_ = df.copy()\n",
    "# if df_['A'].min() <= 0:\n",
    "#     df_['A'] = df_['A'].apply(lambda x: x + abs(np.min(x)) + 1)\n",
    "df_['A'][df_['A'] <= 0] = 1\n",
    "\n",
    "# boxcox\n",
    "df_['A'] = stats.boxcox(df_['A'])[0]\n",
    "\n",
    "sns.distplot(df_['A'])\n",
    "plt.show()"
   ]
  },
  {
   "cell_type": "markdown",
   "metadata": {},
   "source": [
    "### 處理量綱不一：\n",
    "### Min-Max標準化、Z-Score標準化、Normalizer歸一化"
   ]
  },
  {
   "cell_type": "markdown",
   "metadata": {},
   "source": [
    "### Min-Max 標準化（Min Max Scaling）\n",
    "對原始數據進行線性變換，將特徵值映射成區間為［0，1］的標準值中\n",
    "### 先數據拆分(train_X, test_X)，再做特徵縮放(Scaling)。或先特徵縮放，再做數據拆分？"
   ]
  },
  {
   "cell_type": "code",
   "execution_count": 13,
   "metadata": {},
   "outputs": [
    {
     "name": "stdout",
     "output_type": "stream",
     "text": [
      "   A     B     C\n",
      "0  6 -10.2     1\n",
      "1  7  -3.1     2\n",
      "2  5   2.8     3\n",
      "3  6   9.6  1000\n"
     ]
    }
   ],
   "source": [
    "df = DataFrame({'A': [6, 7, 5, 6],\n",
    "                'B': [-10.2, -3.1, 2.8, 9.6],\n",
    "                'C': [1, 2, 3, 1000]}\n",
    "              )\n",
    "print(df)"
   ]
  },
  {
   "cell_type": "code",
   "execution_count": 14,
   "metadata": {},
   "outputs": [
    {
     "name": "stdout",
     "output_type": "stream",
     "text": [
      "[[0.5        0.         0.        ]\n",
      " [1.         0.35858586 0.001001  ]\n",
      " [0.         0.65656566 0.002002  ]\n",
      " [0.5        1.         1.        ]]\n",
      "\n"
     ]
    }
   ],
   "source": [
    "# 0~1 scaling\n",
    "scaler = MinMaxScaler() # 實例化\n",
    "array = scaler.fit_transform(df) # fit: 訓練生成min(x)和max(x) # transform: 導出結果\n",
    "print(array)\n",
    "print()"
   ]
  },
  {
   "cell_type": "code",
   "execution_count": 15,
   "metadata": {},
   "outputs": [
    {
     "name": "stdout",
     "output_type": "stream",
     "text": [
      "     A         B         C\n",
      "0  0.5  0.000000  0.000000\n",
      "1  1.0  0.358586  0.001001\n",
      "2  0.0  0.656566  0.002002\n",
      "3  0.5  1.000000  1.000000\n",
      "     A         B         C\n",
      "0  0.0 -1.000000 -1.000000\n",
      "1  1.0 -0.282828 -0.997998\n",
      "2 -1.0  0.313131 -0.995996\n",
      "3  0.0  1.000000  1.000000\n"
     ]
    }
   ],
   "source": [
    "# 0~1 scaling\n",
    "df_ = df.copy()\n",
    "scaler = MinMaxScaler()\n",
    "df_[:] = scaler.fit_transform(df_[:])\n",
    "print(df_)\n",
    "\n",
    "# -1~1 scaling\n",
    "df_ = df.copy()\n",
    "scaler = MinMaxScaler()\n",
    "df_[:] = (scaler.fit_transform(df_[:])-0.5)*2\n",
    "print(df_)"
   ]
  },
  {
   "cell_type": "markdown",
   "metadata": {},
   "source": [
    "### Z-Score標準化（Standardization）\n",
    "使數值特徵列的算數平均為0，方差（以及標準差）為1<br/>\n",
    "標準化後的變量值圍繞0上下波動，大於0說明高於平均水平，小於0說明低於平均水平"
   ]
  },
  {
   "cell_type": "code",
   "execution_count": 16,
   "metadata": {},
   "outputs": [
    {
     "name": "stdout",
     "output_type": "stream",
     "text": [
      "          A         B         C\n",
      "0  0.000000 -1.365518 -0.579664\n",
      "1  1.414214 -0.393570 -0.577349\n",
      "2 -1.414214  0.414104 -0.575035\n",
      "3  0.000000  1.344984  1.732048\n"
     ]
    }
   ],
   "source": [
    "df_[:] = scale(df[:])\n",
    "print(df_)"
   ]
  },
  {
   "cell_type": "markdown",
   "metadata": {},
   "source": [
    "### 歸一化\n",
    "使之有unit norm"
   ]
  },
  {
   "cell_type": "code",
   "execution_count": 17,
   "metadata": {},
   "outputs": [
    {
     "name": "stdout",
     "output_type": "stream",
     "text": [
      "          A         B         C\n",
      "0  0.505219 -0.858873  0.084203\n",
      "1  0.884660 -0.391778  0.252760\n",
      "2  0.772991  0.432875  0.463794\n",
      "3  0.006000  0.009599  0.999936\n"
     ]
    }
   ],
   "source": [
    "scaler = Normalizer()\n",
    "df_[:] = scaler.fit_transform(df[:])\n",
    "print(df_)"
   ]
  },
  {
   "cell_type": "markdown",
   "metadata": {},
   "source": [
    "## 類別：\n",
    "## 獨熱編碼、標籤編碼（自然數編碼）\n",
    "## 均值編碼、計數編碼、低頻編碼\n",
    "## 雜湊編碼"
   ]
  },
  {
   "cell_type": "markdown",
   "metadata": {},
   "source": [
    "### 獨熱編碼\n",
    "沒有明顯的順序（例：紅、黃、藍）<br/>\n",
    "優點：解決了分類器處理屬性數據的問題。將離散特徵的擴展到了歐式空間，值只有0和1，不同的類型存儲在垂直的空間<br/>\n",
    "缺點：當類別的數量很多時，特徵空間會變得非常大。一般可以用PCA來減少維度，或改用標籤編碼"
   ]
  },
  {
   "cell_type": "code",
   "execution_count": 18,
   "metadata": {},
   "outputs": [
    {
     "name": "stdout",
     "output_type": "stream",
     "text": [
      "    Color\n",
      "0     Red\n",
      "1    Blue\n",
      "2   Green\n",
      "3    Blue\n",
      "4  Yellow\n",
      "5   Green\n"
     ]
    }
   ],
   "source": [
    "df = DataFrame({'Color': ['Red', 'Blue', 'Green', 'Blue', 'Yellow', 'Green']})\n",
    "print(df)"
   ]
  },
  {
   "cell_type": "code",
   "execution_count": 19,
   "metadata": {},
   "outputs": [
    {
     "name": "stdout",
     "output_type": "stream",
     "text": [
      "   Color_Blue  Color_Green  Color_Red  Color_Yellow\n",
      "0           0            0          1             0\n",
      "1           1            0          0             0\n",
      "2           0            1          0             0\n",
      "3           1            0          0             0\n",
      "4           0            0          0             1\n",
      "5           0            1          0             0\n",
      "\n",
      "[[0. 0. 1. 0.]\n",
      " [1. 0. 0. 0.]\n",
      " [0. 1. 0. 0.]\n",
      " [1. 0. 0. 0.]\n",
      " [0. 0. 0. 1.]\n",
      " [0. 1. 0. 0.]]\n"
     ]
    }
   ],
   "source": [
    "# 獨熱編碼\n",
    "\n",
    "# get_dummies方法\n",
    "df_ = df.copy()\n",
    "df_ = pd.get_dummies(df_)\n",
    "print(df_)\n",
    "print()\n",
    "\n",
    "# OneHotEncoder方法\n",
    "df_ = df.copy()\n",
    "ohe = OneHotEncoder()\n",
    "array = ohe.fit_transform(df_['Color'].values[:,np.newaxis]).toarray()\n",
    "print(array)"
   ]
  },
  {
   "cell_type": "markdown",
   "metadata": {},
   "source": [
    "### 標籤編碼（自然數編碼）\n",
    "特徵本身有順序（例：優秀、良好、合格、不合格）<br/>\n",
    "優點：消耗內存小，訓練時間快<br/>\n",
    "缺點：特徵的質量不高"
   ]
  },
  {
   "cell_type": "code",
   "execution_count": 20,
   "metadata": {},
   "outputs": [
    {
     "name": "stdout",
     "output_type": "stream",
     "text": [
      "  Size\n",
      "0   XL\n",
      "1    M\n",
      "2   XL\n",
      "3    S\n",
      "4    L\n",
      "5    S\n",
      "6    S\n",
      "\n",
      "['XL' 'M' 'S' 'L']\n"
     ]
    }
   ],
   "source": [
    "df = DataFrame({'Size': ['XL', 'M', 'XL', 'S', 'L', 'S', 'S']})\n",
    "print(df)\n",
    "print()\n",
    "\n",
    "print(df['Size'].unique())"
   ]
  },
  {
   "cell_type": "code",
   "execution_count": 21,
   "metadata": {},
   "outputs": [
    {
     "name": "stdout",
     "output_type": "stream",
     "text": [
      "   Size\n",
      "0     0\n",
      "1     1\n",
      "2     0\n",
      "3     2\n",
      "4     3\n",
      "5     2\n",
      "6     2\n",
      "\n",
      "   Size\n",
      "0     3\n",
      "1     1\n",
      "2     3\n",
      "3     2\n",
      "4     0\n",
      "5     2\n",
      "6     2\n"
     ]
    }
   ],
   "source": [
    "df_ = df.copy()\n",
    "for col in df_.columns:\n",
    "    df_[col] = pd.factorize(df_[col])[0]\n",
    "print(df_)\n",
    "print()\n",
    "\n",
    "df_ = df.copy()\n",
    "for col in df_.columns:\n",
    "    le = LabelEncoder()\n",
    "    df_[col] = le.fit_transform(df_[col])\n",
    "    print(df_)"
   ]
  },
  {
   "cell_type": "code",
   "execution_count": 22,
   "metadata": {},
   "outputs": [
    {
     "name": "stdout",
     "output_type": "stream",
     "text": [
      "   Size\n",
      "0     3\n",
      "1     1\n",
      "2     3\n",
      "3     2\n",
      "4     0\n",
      "5     2\n",
      "6     2\n",
      "\n",
      "['XL' 'M' 'XL' 'S' 'L' 'S' 'S']\n"
     ]
    }
   ],
   "source": [
    "df_ = df.copy()\n",
    "for col in df_.columns:\n",
    "    le = LabelEncoder()\n",
    "    le = le.fit(df_[col])\n",
    "    df_[col] = le.transform(df_[col])\n",
    "    print(df_)\n",
    "    print()\n",
    "    print(le.inverse_transform(df_['Size']))"
   ]
  },
  {
   "cell_type": "markdown",
   "metadata": {},
   "source": [
    "### 均值編碼\n",
    "需要高頻出現次數<br/>\n",
    "優點：符合直覺。類別特徵與目標值有顯著相關<br/>\n",
    "缺點：容易overfitting。低次數可能受極端值影響"
   ]
  },
  {
   "cell_type": "code",
   "execution_count": 23,
   "metadata": {},
   "outputs": [
    {
     "name": "stdout",
     "output_type": "stream",
     "text": [
      "   Area  Price\n",
      "0     E     50\n",
      "1     S     80\n",
      "2     W    100\n",
      "3     N     90\n",
      "4     N     70\n",
      "5     W     90\n",
      "6     S     85\n",
      "7     E     50\n",
      "8     S     80\n",
      "9     W    100\n",
      "10    N     90\n",
      "\n",
      "W    3\n",
      "N    3\n",
      "S    3\n",
      "E    2\n",
      "Name: Area, dtype: int64\n"
     ]
    }
   ],
   "source": [
    "df = DataFrame({'Area': ['E', 'S', 'W', 'N', 'N', 'W', 'S', 'E', 'S', 'W', 'N'],\n",
    "               'Price': [50, 80, 100, 90, 70, 90, 85, 50, 80, 100, 90]})\n",
    "print(df)\n",
    "print()\n",
    "\n",
    "print(df['Area'].value_counts())"
   ]
  },
  {
   "cell_type": "code",
   "execution_count": 24,
   "metadata": {},
   "outputs": [
    {
     "name": "stdout",
     "output_type": "stream",
     "text": [
      "    Area_mean\n",
      "0   50.000000\n",
      "1   81.666667\n",
      "2   96.666667\n",
      "3   83.333333\n",
      "4   83.333333\n",
      "5   96.666667\n",
      "6   81.666667\n",
      "7   50.000000\n",
      "8   81.666667\n",
      "9   96.666667\n",
      "10  83.333333\n"
     ]
    }
   ],
   "source": [
    "df_ = df.copy()\n",
    "target = get_target(df_, 'Price')\n",
    "df_ = drop_cols(df_, ['Price'])\n",
    "\n",
    "for col in df_.columns:\n",
    "    df_mean = df.groupby([col])['Price'].mean().reset_index()\n",
    "    df_mean.columns = [col, f'{col}_mean']\n",
    "    df_ = pd.merge(df_, df_mean, on=col, how='left')\n",
    "    df_ = df_.drop([col], axis=1)\n",
    "print(df_)"
   ]
  },
  {
   "cell_type": "markdown",
   "metadata": {},
   "source": [
    "### 計數編碼\n",
    "針對高基數類別特徵的有監督編碼。目標與類別筆數呈高度相關，將筆數本⾝當成特徵<br/>\n",
    "例：NLP裡的詞頻<br/>\n",
    "例：家庭地址<br/>\n",
    "優點：和獨熱編碼相比，節省內存、減少算法計算時間、有效增強模型表現"
   ]
  },
  {
   "cell_type": "code",
   "execution_count": 25,
   "metadata": {},
   "outputs": [
    {
     "name": "stdout",
     "output_type": "stream",
     "text": [
      "  Area  Visitors\n",
      "0    E       100\n",
      "1    E       120\n",
      "2    E       150\n",
      "3    W       280\n",
      "4    W       330\n",
      "5    W       300\n",
      "6    W       310\n",
      "7    W       360\n",
      "8    W       340\n",
      "9    W       320\n",
      "\n",
      "W    7\n",
      "E    3\n",
      "Name: Area, dtype: int64\n",
      "\n"
     ]
    }
   ],
   "source": [
    "df = DataFrame({'Area': ['E', 'E', 'E', 'W', 'W', 'W', 'W', 'W', 'W', 'W'],\n",
    "               'Visitors': [100, 120, 150, 280, 330, 300, 310, 360, 340, 320]})\n",
    "print(df)\n",
    "print()\n",
    "\n",
    "print(df['Area'].value_counts())\n",
    "print()"
   ]
  },
  {
   "cell_type": "code",
   "execution_count": 26,
   "metadata": {},
   "outputs": [
    {
     "name": "stdout",
     "output_type": "stream",
     "text": [
      "groupby 方法:\n",
      "\n",
      "  Area  Area_Count\n",
      "0    E           3\n",
      "1    W           7\n",
      "\n",
      "  Area  Visitors  Area_Count\n",
      "0    E       100           3\n",
      "1    E       120           3\n",
      "2    E       150           3\n",
      "3    W       280           7\n",
      "4    W       330           7\n",
      "5    W       300           7\n",
      "6    W       310           7\n",
      "7    W       360           7\n",
      "8    W       340           7\n",
      "9    W       320           7\n",
      "\n",
      "-----\n",
      "\n",
      "value_counts 方法:\n",
      "\n",
      "W    7\n",
      "E    3\n",
      "Name: Area, dtype: int64\n",
      "\n",
      "  Area  Area_Count\n",
      "0    W           7\n",
      "1    E           3\n",
      "\n",
      "  Area  Visitors  Area_Count\n",
      "0    E       100           3\n",
      "1    E       120           3\n",
      "2    E       150           3\n",
      "3    W       280           7\n",
      "4    W       330           7\n",
      "5    W       300           7\n",
      "6    W       310           7\n",
      "7    W       360           7\n",
      "8    W       340           7\n",
      "9    W       320           7\n"
     ]
    },
    {
     "name": "stderr",
     "output_type": "stream",
     "text": [
      "/Users/ianfan/anaconda3/envs/tensorflow/lib/python3.6/site-packages/ipykernel_launcher.py:3: FutureWarning: using a dict on a Series for aggregation\n",
      "is deprecated and will be removed in a future version\n",
      "  This is separate from the ipykernel package so we can avoid doing imports until\n"
     ]
    }
   ],
   "source": [
    "print('groupby 方法:\\n')\n",
    "df_ = df.copy()\n",
    "count_df = df_.groupby(['Area'])['Visitors'].agg({'Area_Count':'size'}).reset_index()\n",
    "print(count_df)\n",
    "print()\n",
    "\n",
    "df_ = pd.merge(df_, count_df, on=['Area'], how='left')\n",
    "print(df_)\n",
    "\n",
    "print('\\n-----\\n')\n",
    "\n",
    "print('value_counts 方法:\\n')\n",
    "\n",
    "df_ = df.copy()\n",
    "sr = df_['Area'].value_counts()\n",
    "print(sr)\n",
    "print()\n",
    "\n",
    "count_df = DataFrame({'Area': sr.index.values,\n",
    "                      'Area_Count':sr.values})\n",
    "print(count_df)\n",
    "print()\n",
    "\n",
    "df_ = pd.merge(df_, count_df, on=['Area'], how='left')\n",
    "print(df_)"
   ]
  },
  {
   "cell_type": "markdown",
   "metadata": {},
   "source": [
    "### 低頻編碼\n",
    "只出現一次的低頻類別，保留其原有的自然數編碼意義不大，不如將所有頻數為1的類別合併到同一個新的類別下<br/>\n",
    "例：特別偏僻的郊區地址"
   ]
  },
  {
   "cell_type": "code",
   "execution_count": 27,
   "metadata": {},
   "outputs": [
    {
     "name": "stdout",
     "output_type": "stream",
     "text": [
      "   Cabin\n",
      "0     A1\n",
      "1     A2\n",
      "2     A2\n",
      "3     A3\n",
      "4     A1\n",
      "5     A3\n",
      "6     A2\n",
      "7     B5\n",
      "8     B6\n",
      "9     A1\n",
      "10    A2\n",
      "11    A3\n",
      "12    A1\n",
      "13    A3\n",
      "14    B3\n",
      "15    B2\n",
      "\n",
      "A1    4\n",
      "A2    4\n",
      "A3    4\n",
      "B5    1\n",
      "B3    1\n",
      "B6    1\n",
      "B2    1\n",
      "Name: Cabin, dtype: int64\n"
     ]
    }
   ],
   "source": [
    "df = DataFrame({'Cabin': ['A1', 'A2', 'A2', 'A3', 'A1', 'A3', 'A2', 'B5', 'B6', 'A1', 'A2', 'A3', 'A1', 'A3', 'B3', 'B2']})\n",
    "print(df)\n",
    "print()\n",
    "\n",
    "print(df['Cabin'].value_counts())"
   ]
  },
  {
   "cell_type": "code",
   "execution_count": 28,
   "metadata": {},
   "outputs": [
    {
     "name": "stdout",
     "output_type": "stream",
     "text": [
      "B5    1\n",
      "B3    1\n",
      "B6    1\n",
      "B2    1\n",
      "Name: Cabin, dtype: int64\n",
      "\n",
      "   Cabin\n",
      "0     A1\n",
      "1     A2\n",
      "2     A2\n",
      "3     A3\n",
      "4     A1\n",
      "5     A3\n",
      "6     A2\n",
      "7      B\n",
      "8      B\n",
      "9     A1\n",
      "10    A2\n",
      "11    A3\n",
      "12    A1\n",
      "13    A3\n",
      "14     B\n",
      "15     B\n"
     ]
    }
   ],
   "source": [
    "df_ = df.copy()\n",
    "\n",
    "sr = df_['Cabin'].value_counts()\n",
    "sr = sr[sr.values == 1]\n",
    "print(sr)\n",
    "print()\n",
    "\n",
    "for b in sr.index.values:\n",
    "    df_['Cabin'].replace({b:'B'}, inplace=True)\n",
    "print(df_)"
   ]
  },
  {
   "cell_type": "markdown",
   "metadata": {},
   "source": [
    "### 雜湊 ( Hash )\n",
    "相異類別的數量非常龐⼤<br/>\n",
    "在計算空間、時間與鑑別度間取折衷，當其它編碼方式效果更差時使用<br/>\n",
    "例: 旅客姓名"
   ]
  },
  {
   "cell_type": "code",
   "execution_count": 29,
   "metadata": {},
   "outputs": [
    {
     "name": "stdout",
     "output_type": "stream",
     "text": [
      "      Name\n",
      "0      Sam\n",
      "1      Tom\n",
      "2    Cindy\n",
      "3    Penny\n",
      "4     Anya\n",
      "5   Hector\n",
      "6     Eric\n",
      "7    Doris\n",
      "8     John\n",
      "9     Judy\n",
      "10     Sam\n",
      "11     Tom\n",
      "12   Cindy\n",
      "13   Penny\n",
      "14    Anya\n",
      "15  Hector\n",
      "16    Eric\n",
      "17   Doris\n",
      "18    John\n",
      "19    Judy\n"
     ]
    }
   ],
   "source": [
    "df = DataFrame({'Name': ['Sam', 'Tom', 'Cindy', 'Penny', 'Anya', 'Hector', 'Eric', 'Doris', 'John', 'Judy', 'Sam', 'Tom', 'Cindy', 'Penny', 'Anya', 'Hector', 'Eric', 'Doris', 'John', 'Judy']})\n",
    "print(df)"
   ]
  },
  {
   "cell_type": "code",
   "execution_count": 30,
   "metadata": {},
   "outputs": [
    {
     "name": "stdout",
     "output_type": "stream",
     "text": [
      "      Name  Name_Hash\n",
      "0      Sam          4\n",
      "1      Tom          0\n",
      "2    Cindy          4\n",
      "3    Penny          1\n",
      "4     Anya          0\n",
      "5   Hector          0\n",
      "6     Eric          3\n",
      "7    Doris          3\n",
      "8     John          3\n",
      "9     Judy          3\n",
      "10     Sam          4\n",
      "11     Tom          0\n",
      "12   Cindy          4\n",
      "13   Penny          1\n",
      "14    Anya          0\n",
      "15  Hector          0\n",
      "16    Eric          3\n",
      "17   Doris          3\n",
      "18    John          3\n",
      "19    Judy          3\n"
     ]
    }
   ],
   "source": [
    "df_ = df.copy()\n",
    "\n",
    "df_['Name_Hash'] = df_['Name'].map(lambda x:hash(x) % 5)\n",
    "print(df_)"
   ]
  },
  {
   "cell_type": "markdown",
   "metadata": {},
   "source": [
    "## 時間：\n",
    "## 年、月、日、時、分、秒\n",
    "## 第幾天、第幾週、星期幾\n",
    "## 日週期、周週期、年週期\n",
    "## 時長、次數、頻率"
   ]
  },
  {
   "cell_type": "code",
   "execution_count": 31,
   "metadata": {},
   "outputs": [],
   "source": [
    "# https://docs.python.org/3/library/datetime.html\n",
    "\n",
    "# %Y 年，四位數 0001, ..., 2019, ..., 9999\n",
    "# %y 年，兩位數 00, ..., 19, ..., 99\n",
    "# %m 月，兩位數 01, ..., 12\n",
    "# %B 月，全名 January, ..., Decenber\n",
    "# %b 月，縮寫 Jan, ..., Dec\n",
    "# %d 日，兩位數 01, ..., 31\n",
    "# %H 時，24時制 00, 01, ..., 23\n",
    "# %I 時，12時制 12, 1, ..., 11\n",
    "# %M 分，兩位數 00, ..., 59\n",
    "# %S 秒，兩位數 00, ..., 59\n",
    "# %f 毫秒，六位數 000000, ..., 999999\n",
    "# %p 上下午 AM, PM, am, pm\n",
    "\n",
    "# %Z 時差，時區名 (empty), UTC, EST, CST\n",
    "# %z 時差，±HHMM[SS[.ffffff]] (empty), +0000, -0400, +1030, +063415, -030712.345216\n",
    "\n",
    "# %j 一年中第幾天 001, 002, ..., 366\n",
    "\n",
    "# %U 一年中第幾週，星期日是每週第一天 00, 01, ..., 53\n",
    "# %W 一年中第幾週，星期一是每週第一天 00, 01, ..., 53\n",
    "\n",
    "# %w 一週中星期幾，一位數，星期日是0 0, 1, ..., 6\n",
    "# %A 一週中星期幾，全名 Sunday, Monday, ..., Saturday\n",
    "# %a 一週中星期幾，縮寫 Sun, Mon, Sat\n",
    "\n",
    "# %c 時間格式 Tue Aug 16 21:30:00 1988 \n",
    "# %X 時間格式 08/16/1988\n",
    "# %x 時間格式 21:30:00"
   ]
  },
  {
   "cell_type": "code",
   "execution_count": 32,
   "metadata": {},
   "outputs": [
    {
     "name": "stdout",
     "output_type": "stream",
     "text": [
      "             datetime_full\n",
      "0  2011-10-21 23:54:10 UTC\n",
      "1  2015-02-03 10:42:03 UTC\n",
      "2  2014-03-16 18:58:58 UTC\n",
      "3  2009-06-13 16:10:54 UTC\n",
      "4  2014-06-12 03:25:56 UTC\n"
     ]
    }
   ],
   "source": [
    "df = DataFrame(['2011-10-21 23:54:10 UTC', \n",
    "                '2015-02-03 10:42:03 UTC', \n",
    "                '2014-03-16 18:58:58 UTC', \n",
    "                '2009-06-13 16:10:54 UTC', \n",
    "                '2014-06-12 03:25:56 UTC'],\n",
    "              columns=['datetime_full'])\n",
    "print(df)"
   ]
  },
  {
   "cell_type": "code",
   "execution_count": 33,
   "metadata": {},
   "outputs": [
    {
     "name": "stdout",
     "output_type": "stream",
     "text": [
      "             datetime  year  month  day  hour  minute  second\n",
      "0 2011-10-21 23:54:10  2011     10   21    23      54      10\n",
      "1 2015-02-03 10:42:03  2015      2    3    10      42       3\n",
      "2 2014-03-16 18:58:58  2014      3   16    18      58      58\n",
      "3 2009-06-13 16:10:54  2009      6   13    16      10      54\n",
      "4 2014-06-12 03:25:56  2014      6   12     3      25      56\n"
     ]
    }
   ],
   "source": [
    "# 時間特徵分解方式\n",
    "df['datetime'] = df['datetime_full'].apply(lambda x: datetime.datetime.strptime(x, '%Y-%m-%d %H:%M:%S UTC'))\n",
    "df['year'] = df['datetime'].apply(lambda x: datetime.datetime.strftime(x, '%Y')).astype('int64')\n",
    "df['month'] = df['datetime'].apply(lambda x: datetime.datetime.strftime(x, '%m')).astype('int64')\n",
    "df['day'] = df['datetime'].apply(lambda x: datetime.datetime.strftime(x, '%d')).astype('int64')\n",
    "df['hour'] = df['datetime'].apply(lambda x: datetime.datetime.strftime(x, '%H')).astype('int64')\n",
    "df['minute'] = df['datetime'].apply(lambda x: datetime.datetime.strftime(x, '%M')).astype('int64')\n",
    "df['second'] = df['datetime'].apply(lambda x: datetime.datetime.strftime(x, '%S')).astype('int64')\n",
    "\n",
    "print(df[['datetime', 'year', 'month', 'day', 'hour', 'minute', 'second']].head())"
   ]
  },
  {
   "cell_type": "code",
   "execution_count": 34,
   "metadata": {},
   "outputs": [
    {
     "data": {
      "text/html": [
       "<div>\n",
       "<style scoped>\n",
       "    .dataframe tbody tr th:only-of-type {\n",
       "        vertical-align: middle;\n",
       "    }\n",
       "\n",
       "    .dataframe tbody tr th {\n",
       "        vertical-align: top;\n",
       "    }\n",
       "\n",
       "    .dataframe thead th {\n",
       "        text-align: right;\n",
       "    }\n",
       "</style>\n",
       "<table border=\"1\" class=\"dataframe\">\n",
       "  <thead>\n",
       "    <tr style=\"text-align: right;\">\n",
       "      <th></th>\n",
       "      <th>day_of_week</th>\n",
       "      <th>week_of_year</th>\n",
       "    </tr>\n",
       "  </thead>\n",
       "  <tbody>\n",
       "    <tr>\n",
       "      <th>0</th>\n",
       "      <td>5</td>\n",
       "      <td>42</td>\n",
       "    </tr>\n",
       "    <tr>\n",
       "      <th>1</th>\n",
       "      <td>2</td>\n",
       "      <td>5</td>\n",
       "    </tr>\n",
       "    <tr>\n",
       "      <th>2</th>\n",
       "      <td>0</td>\n",
       "      <td>11</td>\n",
       "    </tr>\n",
       "    <tr>\n",
       "      <th>3</th>\n",
       "      <td>6</td>\n",
       "      <td>23</td>\n",
       "    </tr>\n",
       "    <tr>\n",
       "      <th>4</th>\n",
       "      <td>4</td>\n",
       "      <td>23</td>\n",
       "    </tr>\n",
       "  </tbody>\n",
       "</table>\n",
       "</div>"
      ],
      "text/plain": [
       "   day_of_week  week_of_year\n",
       "0            5            42\n",
       "1            2             5\n",
       "2            0            11\n",
       "3            6            23\n",
       "4            4            23"
      ]
     },
     "execution_count": 34,
     "metadata": {},
     "output_type": "execute_result"
    }
   ],
   "source": [
    "# 星期幾\n",
    "df['day_of_week'] = df['datetime'].apply(lambda x: datetime.datetime.strftime(x, '%w')).astype('int64')\n",
    "\n",
    "# 第幾周\n",
    "df['week_of_year'] = df['datetime'].apply(lambda x: datetime.datetime.strftime(x, '%U')).astype('int64')\n",
    "\n",
    "df[['day_of_week', 'week_of_year']] .head()"
   ]
  },
  {
   "cell_type": "code",
   "execution_count": 35,
   "metadata": {},
   "outputs": [
    {
     "data": {
      "text/html": [
       "<div>\n",
       "<style scoped>\n",
       "    .dataframe tbody tr th:only-of-type {\n",
       "        vertical-align: middle;\n",
       "    }\n",
       "\n",
       "    .dataframe tbody tr th {\n",
       "        vertical-align: top;\n",
       "    }\n",
       "\n",
       "    .dataframe thead th {\n",
       "        text-align: right;\n",
       "    }\n",
       "</style>\n",
       "<table border=\"1\" class=\"dataframe\">\n",
       "  <thead>\n",
       "    <tr style=\"text-align: right;\">\n",
       "      <th></th>\n",
       "      <th>day_cycle</th>\n",
       "      <th>week_cycle</th>\n",
       "      <th>year_cycle</th>\n",
       "    </tr>\n",
       "  </thead>\n",
       "  <tbody>\n",
       "    <tr>\n",
       "      <th>0</th>\n",
       "      <td>-0.025450</td>\n",
       "      <td>-0.804598</td>\n",
       "      <td>0.777146</td>\n",
       "    </tr>\n",
       "    <tr>\n",
       "      <th>1</th>\n",
       "      <td>0.333601</td>\n",
       "      <td>0.826239</td>\n",
       "      <td>0.453990</td>\n",
       "    </tr>\n",
       "    <tr>\n",
       "      <th>2</th>\n",
       "      <td>-0.967083</td>\n",
       "      <td>0.623490</td>\n",
       "      <td>-0.275637</td>\n",
       "    </tr>\n",
       "    <tr>\n",
       "      <th>3</th>\n",
       "      <td>-0.888817</td>\n",
       "      <td>-0.294755</td>\n",
       "      <td>-0.974370</td>\n",
       "    </tr>\n",
       "    <tr>\n",
       "      <th>4</th>\n",
       "      <td>0.782427</td>\n",
       "      <td>-0.532032</td>\n",
       "      <td>-0.978148</td>\n",
       "    </tr>\n",
       "  </tbody>\n",
       "</table>\n",
       "</div>"
      ],
      "text/plain": [
       "   day_cycle  week_cycle  year_cycle\n",
       "0  -0.025450   -0.804598    0.777146\n",
       "1   0.333601    0.826239    0.453990\n",
       "2  -0.967083    0.623490   -0.275637\n",
       "3  -0.888817   -0.294755   -0.974370\n",
       "4   0.782427   -0.532032   -0.978148"
      ]
     },
     "execution_count": 35,
     "metadata": {},
     "output_type": "execute_result"
    }
   ],
   "source": [
    "# 日週期\n",
    "df['day_cycle'] = df['hour']/12 + df['minute']/720 + df['second']/43200\n",
    "df['day_cycle'] = df['day_cycle'].map(lambda x:math.sin(x*math.pi))\n",
    "\n",
    "# 周週期\n",
    "df['day_of_week'] = df['datetime'].apply(lambda x: datetime.datetime.strftime(x, '%w')).astype('int64')\n",
    "df['week_cycle'] = df['day_of_week']/3.5 + df['hour']/84\n",
    "df['week_cycle'] = df['week_cycle'].map(lambda x:math.sin(x*math.pi))\n",
    "\n",
    "# 年週期\n",
    "df['year_cycle'] = df['month']/6 + df['day']/180\n",
    "df['year_cycle'] = df['year_cycle'].map(lambda x:math.cos(x*math.pi))\n",
    "\n",
    "df[['day_cycle', 'week_cycle', 'year_cycle']].head()"
   ]
  },
  {
   "cell_type": "markdown",
   "metadata": {},
   "source": [
    "## 空間：\n",
    "## 經緯度（經度longitude，緯度latitude）"
   ]
  },
  {
   "cell_type": "code",
   "execution_count": 36,
   "metadata": {},
   "outputs": [
    {
     "name": "stdout",
     "output_type": "stream",
     "text": [
      "   from_longitude  from_latitude  to_longitude  to_latitude\n",
      "0      -73.990580      40.761071    -73.981128    40.758634\n",
      "1      -73.988403      40.715110    -73.989647    40.741695\n",
      "2      -73.989683      40.729717    -73.982490    40.761887\n"
     ]
    }
   ],
   "source": [
    "df = DataFrame({'from_longitude': [-73.990580, -73.988403, -73.989683],\n",
    "                'from_latitude': [40.761071, 40.715110, 40.729717],\n",
    "                'to_longitude': [-73.981128, -73.989647, -73.982490],\n",
    "                'to_latitude': [40.758634, 40.741695, 40.761887]})\n",
    "print(df)"
   ]
  },
  {
   "cell_type": "code",
   "execution_count": 37,
   "metadata": {},
   "outputs": [
    {
     "name": "stdout",
     "output_type": "stream",
     "text": [
      "   from_longitude  from_latitude  to_longitude  to_latitude  distance_2D  \\\n",
      "0      -73.990580      40.761071    -73.981128    40.758634     0.009761   \n",
      "1      -73.988403      40.715110    -73.989647    40.741695     0.026614   \n",
      "2      -73.989683      40.729717    -73.982490    40.761887     0.032964   \n",
      "\n",
      "   distance_real  \n",
      "0     842.759150  \n",
      "1    2954.095826  \n",
      "2    3623.728417  \n"
     ]
    }
   ],
   "source": [
    "# 2d distance\n",
    "dlon = (df['to_longitude'] - df['from_longitude'])\n",
    "dlat = df['to_latitude'] - df['from_latitude']\n",
    "df['distance_2D'] = (dlon**2 + dlat**2)**0.5\n",
    "\n",
    "# real distance (meter)\n",
    "def getDistance(lonA, latA, lonB, latB):  \n",
    "        ra = 6378140  # radius of equator: meter  \n",
    "        rb = 6356755  # radius of polar: meter  \n",
    "        flatten = (ra - rb) / ra  # Partial rate of the earth  \n",
    "        # change angle to radians  \n",
    "        radLatA = math.radians(latA)  \n",
    "        radLonA = math.radians(lonA)  \n",
    "        radLatB = math.radians(latB)  \n",
    "        radLonB = math.radians(lonB) \n",
    "        pA = math.atan(rb / ra * math.tan(radLatA))  \n",
    "        pB = math.atan(rb / ra * math.tan(radLatB))  \n",
    "        x = math.acos(math.sin(pA) * math.sin(pB) + math.cos(pA) * math.cos(pB) * math.cos(radLonA - radLonB))  \n",
    "        c1 = (math.sin(x) - x) * (math.sin(pA) + math.sin(pB))**2 / math.cos(x / 2)**2  \n",
    "        c2 = (math.sin(x) + x) * (math.sin(pA) - math.sin(pB))**2 / math.sin(x / 2)**2  \n",
    "        dr = flatten / 8 * (c1 - c2)  \n",
    "        distance = ra * (x + dr)  \n",
    "        return distance \n",
    "dis_map = map(lambda lon1, lat1, lon2, lat2: getDistance(lon1, lat1, lon2, lat2), df['from_longitude'].values, df['from_latitude'].values, df['to_longitude'].values, df['to_latitude'].values)\n",
    "df['distance_real'] = Series(list(dis_map))\n",
    "\n",
    "print(df)"
   ]
  },
  {
   "cell_type": "markdown",
   "metadata": {},
   "source": [
    "### 排序"
   ]
  },
  {
   "cell_type": "markdown",
   "metadata": {},
   "source": [
    "# 特徵組合：\n",
    "### ・數值與數值組合，類別與類別組合，類別與數值組合\n",
    "### ・統計特徵：平均、中位數、眾數、分位點、最大值、最小值、標準差、方差、頻數\n",
    "### ・加減乘除、絕對值 |X| 、指數 X^2、對數 logX、比例 X_1 / X_2\n",
    "### ・max(X_1, X_2)，min(X_1, X_2)，X_1 xor X_2\n",
    "### ・基因编程，行組合轉換，組合的方式（一元、二元、多元算子）\n",
    "### ・用決策樹創造新特徵，apply()以及decision_path()方法，在scikit-learn和xgboost"
   ]
  },
  {
   "cell_type": "markdown",
   "metadata": {},
   "source": [
    "## 統計特徵：平均、中位數、眾數、分位點、最大值、最小值、標準差、方差、頻數"
   ]
  },
  {
   "cell_type": "code",
   "execution_count": 38,
   "metadata": {},
   "outputs": [
    {
     "name": "stdout",
     "output_type": "stream",
     "text": [
      "   Age Sex\n",
      "0    6   M\n",
      "1   37   F\n",
      "2    5   F\n",
      "3   56   M\n",
      "4    3   F\n",
      "5   12   F\n",
      "6   72   M\n",
      "7   28   M\n",
      "8   15   M\n",
      "9   49   M\n"
     ]
    }
   ],
   "source": [
    "df = DataFrame({'Age': [6, 37, 5, 56, 3, 12, 72, 28, 15, 49],\n",
    "                'Sex': ['M', 'F', 'F', 'M', 'F', 'F', 'M', 'M', 'M', 'M']})\n",
    "print(df)"
   ]
  },
  {
   "cell_type": "code",
   "execution_count": 39,
   "metadata": {},
   "outputs": [
    {
     "name": "stdout",
     "output_type": "stream",
     "text": [
      "   Age Sex  Age_Sex_Mean  Age_Sex_Median  Age_Sex_Mode  Age_Sex_Percentile  \\\n",
      "0    6   M     37.666667            38.5             6               71.20   \n",
      "1   37   F     14.250000             8.5             3               36.25   \n",
      "2    5   F     14.250000             8.5             3               36.25   \n",
      "3   56   M     37.666667            38.5             6               71.20   \n",
      "4    3   F     14.250000             8.5             3               36.25   \n",
      "5   12   F     14.250000             8.5             3               36.25   \n",
      "6   72   M     37.666667            38.5             6               71.20   \n",
      "7   28   M     37.666667            38.5             6               71.20   \n",
      "8   15   M     37.666667            38.5             6               71.20   \n",
      "9   49   M     37.666667            38.5             6               71.20   \n",
      "\n",
      "   Age_Sex_Max  Age_Sex_Min  Age_Sex_STD  Age_Sex_Var  Age_Sex_Size  \n",
      "0           72            6    25.508169   650.666667             6  \n",
      "1           37            3    15.649814   244.916667             4  \n",
      "2           37            3    15.649814   244.916667             4  \n",
      "3           72            6    25.508169   650.666667             6  \n",
      "4           37            3    15.649814   244.916667             4  \n",
      "5           37            3    15.649814   244.916667             4  \n",
      "6           72            6    25.508169   650.666667             6  \n",
      "7           72            6    25.508169   650.666667             6  \n",
      "8           72            6    25.508169   650.666667             6  \n",
      "9           72            6    25.508169   650.666667             6  \n"
     ]
    },
    {
     "name": "stderr",
     "output_type": "stream",
     "text": [
      "/Users/ianfan/anaconda3/envs/tensorflow/lib/python3.6/site-packages/ipykernel_launcher.py:4: FutureWarning: using a dict on a Series for aggregation\n",
      "is deprecated and will be removed in a future version\n",
      "  after removing the cwd from sys.path.\n",
      "/Users/ianfan/anaconda3/envs/tensorflow/lib/python3.6/site-packages/ipykernel_launcher.py:8: FutureWarning: using a dict on a Series for aggregation\n",
      "is deprecated and will be removed in a future version\n",
      "  \n",
      "/Users/ianfan/anaconda3/envs/tensorflow/lib/python3.6/site-packages/ipykernel_launcher.py:22: FutureWarning: using a dict on a Series for aggregation\n",
      "is deprecated and will be removed in a future version\n",
      "/Users/ianfan/anaconda3/envs/tensorflow/lib/python3.6/site-packages/ipykernel_launcher.py:26: FutureWarning: using a dict on a Series for aggregation\n",
      "is deprecated and will be removed in a future version\n",
      "/Users/ianfan/anaconda3/envs/tensorflow/lib/python3.6/site-packages/ipykernel_launcher.py:30: FutureWarning: using a dict on a Series for aggregation\n",
      "is deprecated and will be removed in a future version\n",
      "/Users/ianfan/anaconda3/envs/tensorflow/lib/python3.6/site-packages/ipykernel_launcher.py:34: FutureWarning: using a dict on a Series for aggregation\n",
      "is deprecated and will be removed in a future version\n",
      "/Users/ianfan/anaconda3/envs/tensorflow/lib/python3.6/site-packages/ipykernel_launcher.py:38: FutureWarning: using a dict on a Series for aggregation\n",
      "is deprecated and will be removed in a future version\n"
     ]
    }
   ],
   "source": [
    "df_ = df.copy()\n",
    "\n",
    "# 平均\n",
    "mean_df = df_.groupby(['Sex'])['Age'].agg({'Age_Sex_Mean':'mean'}).reset_index()\n",
    "df_ = pd.merge(df_, mean_df, how='left', on=['Sex'])\n",
    "\n",
    "# 中位數\n",
    "median_df = df_.groupby(['Sex'])['Age'].agg({'Age_Sex_Median':'median'}).reset_index()\n",
    "df_ = pd.merge(df_, median_df, how='left', on=['Sex'])\n",
    "\n",
    "# 眾數\n",
    "mode_df = df_.groupby(['Sex'])['Age'].apply(lambda x: x.mode()[0]).reset_index()\n",
    "mode_df.columns = ['Sex', 'Age_Sex_Mode']\n",
    "df_ = pd.merge(df_, mode_df, how='left', on=['Sex'])\n",
    "\n",
    "# 分位點\n",
    "percentile_df = df_.groupby(['Sex'])['Age'].apply(lambda x: np.percentile(x, q = 99)).reset_index()\n",
    "percentile_df.columns = ['Sex', 'Age_Sex_Percentile']\n",
    "df_ = pd.merge(df_, percentile_df, how='left', on=['Sex'])\n",
    "\n",
    "# 最大值\n",
    "max_df = df_.groupby(['Sex'])['Age'].agg({'Age_Sex_Max':'max'}).reset_index()\n",
    "df_ = pd.merge(df_, max_df, how='left', on=['Sex'])\n",
    "\n",
    "# 最小值\n",
    "min_df = df_.groupby(['Sex'])['Age'].agg({'Age_Sex_Min':'min'}).reset_index()\n",
    "df_ = pd.merge(df_, min_df, how='left', on=['Sex'])\n",
    "\n",
    "# 標準差\n",
    "std_df = df_.groupby(['Sex'])['Age'].agg({'Age_Sex_STD':'std'}).reset_index()\n",
    "df_ = pd.merge(df_, std_df, how='left', on=['Sex'])\n",
    "\n",
    "# 方差\n",
    "var_df = df_.groupby(['Sex'])['Age'].agg({'Age_Sex_Var':'var'}).reset_index()\n",
    "df_ = pd.merge(df_, var_df, how='left', on=['Sex'])\n",
    "\n",
    "# 頻數\n",
    "size_df = df_.groupby(['Sex'])['Age'].agg({'Age_Sex_Size':'size'}).reset_index()\n",
    "df_ = pd.merge(df_, size_df, how='left', on=['Sex'])\n",
    "\n",
    "print(df_)"
   ]
  },
  {
   "cell_type": "markdown",
   "metadata": {},
   "source": [
    "# 特徵選擇\n",
    "## 過濾法、集成法、包裝法"
   ]
  },
  {
   "cell_type": "markdown",
   "metadata": {},
   "source": [
    "## 過濾法（Filter）：\n",
    "## 相關係數、方差選擇、卡方檢驗、互信息法\n",
    "自變量與目標變量的關聯<br/>\n",
    "選定統計數值與設定門檻，刪除低於門檻的特徵<br/>"
   ]
  },
  {
   "cell_type": "code",
   "execution_count": 40,
   "metadata": {},
   "outputs": [
    {
     "name": "stdout",
     "output_type": "stream",
     "text": [
      "   Age Country Sex  Survived\n",
      "0   10     USA   M         1\n",
      "1   37      SP   F         1\n",
      "2   17      FR   F         1\n",
      "3   56     GER   M         0\n",
      "4   33      IT   F         1\n"
     ]
    }
   ],
   "source": [
    "df = DataFrame({'Age': [10, 37, 17, 56, 33, 12, 72, 28, 15, 49, 16, 27, 19, 46, 23, 32, 22, 88, 55, 80, 10, 37, 17, 56, 33, 12, 72, 28, 15, 49, 16, 27, 19, 46, 23, 32, 22, 88, 55, 80],\n",
    "                'Country': ['USA', 'SP', 'FR', 'GER', 'IT', 'EN', 'USA', 'SP', 'GER', 'JP', 'FR', 'SP', 'USA', 'SP', 'GER', 'SP', 'JP', 'GER', 'SP', 'IT', 'EN', 'EN', 'EN', 'GER', 'SP', 'JP', 'USA', 'SP', 'SP', 'USA', 'GER', 'SP', 'IT', 'IT', 'GER', 'USA', 'USA', 'GER', 'JP', 'IT'],\n",
    "                'Sex': ['M', 'F', 'F', 'M', 'F', 'F', 'M', 'M', 'M', 'M', 'M', 'F', 'F', 'M', 'F', 'F', 'M', 'M', 'M', 'M', 'M', 'F', 'F', 'M', 'F', 'F', 'M', 'M', 'M', 'M', 'M', 'F', 'F', 'M', 'F', 'F', 'M', 'M', 'M', 'M'],\n",
    "                'Survived': [1, 1, 1, 0, 1, 1, 1, 0, 0, 0, 1, 1, 1, 0, 1, 1, 0, 0, 1, 0, 0, 0, 1, 0, 1, 1, 0, 0, 1, 0, 1, 1, 1, 0, 1, 1, 0, 0, 0, 0]})\n",
    "\n",
    "print(df.head())"
   ]
  },
  {
   "cell_type": "code",
   "execution_count": 41,
   "metadata": {},
   "outputs": [
    {
     "name": "stdout",
     "output_type": "stream",
     "text": [
      "\n",
      "原始特徵 :\n",
      "GradientBoostingClassifier:\n",
      "importance:\n",
      "Sex        0.487819\n",
      "Age        0.330583\n",
      "Country    0.181597\n",
      "dtype: float64\n",
      "\n",
      "cross_val_score: 0.7797619047619048\n",
      "\n",
      "LogisticRegression:\n",
      "cross_val_score: 0.85\n",
      "\n",
      "相關係數corr:\n",
      "               Age   Country       Sex  Survived\n",
      "Age       1.000000  0.108705  0.427797 -0.502132\n",
      "Country   0.108705  1.000000  0.116741  0.077435\n",
      "Sex       0.427797  0.116741  1.000000 -0.674453\n",
      "Survived -0.502132  0.077435 -0.674453  1.000000\n",
      "['Age', 'Sex', 'Survived']\n",
      "['Age', 'Sex']\n",
      "\n",
      "篩選相關係數corr高相關:\n",
      "GradientBoostingClassifier:\n",
      "importance:\n",
      "Sex    0.600638\n",
      "Age    0.399362\n",
      "dtype: float64\n",
      "\n",
      "cross_val_score: 0.7547619047619047\n",
      "\n",
      "LogisticRegression:\n",
      "cross_val_score: 0.8277777777777778\n"
     ]
    }
   ],
   "source": [
    "df_ = df.copy()\n",
    "train_Y = get_target(df_, 'Survived')\n",
    "df_ = simple_encoder(df_)\n",
    "corr = df_.corr()\n",
    "df_ = drop_cols(df_, ['Survived'])\n",
    "\n",
    "print('\\n原始特徵 :')\n",
    "train_X = df_\n",
    "evaluate_classification(train_X, train_Y)\n",
    "\n",
    "print('\\n相關係數corr:')\n",
    "print(corr)\n",
    "high_list = list(corr[(corr['Survived']>0.25) | (corr['Survived']<-0.25)].index)\n",
    "print(high_list)\n",
    "high_list.pop(-1)\n",
    "print(high_list)\n",
    "\n",
    "print('\\n篩選相關係數corr高相關:')\n",
    "train_X = df_[high_list]\n",
    "evaluate_classification(train_X, train_Y)"
   ]
  },
  {
   "cell_type": "markdown",
   "metadata": {},
   "source": [
    "## 集成法（Embedded）：\n",
    "## 基於懲罰項（正則化 L1 Lasso, L2 Ridge）、基於決策樹模型、深度學習\n",
    "使⽤用機器學習模型，根據擬合後的係數，刪除係數低於門檻的特徵<br/>"
   ]
  },
  {
   "cell_type": "code",
   "execution_count": 42,
   "metadata": {},
   "outputs": [
    {
     "name": "stdout",
     "output_type": "stream",
     "text": [
      "   Age Country Sex  Survived\n",
      "0   10     USA   M         1\n",
      "1   37      SP   F         1\n",
      "2   17      FR   F         1\n",
      "3   56     GER   M         0\n",
      "4   33      IT   F         1\n"
     ]
    }
   ],
   "source": [
    "df = DataFrame({'Age': [10, 37, 17, 56, 33, 12, 72, 28, 15, 49, 16, 27, 19, 46, 23, 32, 22, 88, 55, 80, 10, 37, 17, 56, 33, 12, 72, 28, 15, 49, 16, 27, 19, 46, 23, 32, 22, 88, 55, 80],\n",
    "                'Country': ['USA', 'SP', 'FR', 'GER', 'IT', 'EN', 'USA', 'SP', 'GER', 'JP', 'FR', 'SP', 'USA', 'SP', 'GER', 'SP', 'JP', 'GER', 'SP', 'IT', 'EN', 'EN', 'EN', 'GER', 'SP', 'JP', 'USA', 'SP', 'SP', 'USA', 'GER', 'SP', 'IT', 'IT', 'GER', 'USA', 'USA', 'GER', 'JP', 'IT'],\n",
    "                'Sex': ['M', 'F', 'F', 'M', 'F', 'F', 'M', 'M', 'M', 'M', 'M', 'F', 'F', 'M', 'F', 'F', 'M', 'M', 'M', 'M', 'M', 'F', 'F', 'M', 'F', 'F', 'M', 'M', 'M', 'M', 'M', 'F', 'F', 'M', 'F', 'F', 'M', 'M', 'M', 'M'],\n",
    "                'Survived': [1, 1, 1, 0, 1, 1, 1, 0, 0, 0, 1, 1, 1, 0, 1, 1, 0, 0, 1, 0, 0, 0, 1, 0, 1, 1, 0, 0, 1, 0, 1, 1, 1, 0, 1, 1, 0, 0, 0, 0]})\n",
    "\n",
    "print(df.head())"
   ]
  },
  {
   "cell_type": "code",
   "execution_count": 43,
   "metadata": {},
   "outputs": [
    {
     "name": "stdout",
     "output_type": "stream",
     "text": [
      "\n",
      "相關係數L1:\n",
      "[-0.12411953  0.         -0.5310723 ]\n",
      "\n",
      "篩選相關係數L1:\n",
      "['Age', 'Sex']\n",
      "GradientBoostingClassifier:\n",
      "importance:\n",
      "Sex    0.600589\n",
      "Age    0.399411\n",
      "dtype: float64\n",
      "\n",
      "cross_val_score: 0.7547619047619047\n",
      "\n",
      "LogisticRegression:\n",
      "cross_val_score: 0.8277777777777778\n"
     ]
    }
   ],
   "source": [
    "df_ = df.copy()\n",
    "train_Y = get_target(df_, 'Survived')\n",
    "df_ = simple_encoder(df_)\n",
    "df_ = drop_cols(df_, ['Survived'])\n",
    "\n",
    "train_X = df_\n",
    "print('\\n相關係數L1:')\n",
    "L1_Reg = Lasso(alpha=0.03) # 調整不同的正規化程度，使得⼀部分的特徵係數為０，刪除係數為０的特徵\n",
    "L1_Reg.fit(train_X, train_Y)\n",
    "print(L1_Reg.coef_)\n",
    "\n",
    "print('\\n篩選相關係數L1:')\n",
    "L1_mask = list((L1_Reg.coef_>0) | (L1_Reg.coef_<-0))\n",
    "L1_list = list(compress(list(df_), list(L1_mask)))\n",
    "print(L1_list)\n",
    "\n",
    "train_X = df_[L1_list]\n",
    "evaluate_classification(train_X, train_Y)"
   ]
  },
  {
   "cell_type": "markdown",
   "metadata": {},
   "source": [
    "## 包裝法（Wrapper）：\n",
    "## 遞歸特徵消除法\n",
    "通過目標函數（AUC/MSE）來決定是否加入一個變量<br/>\n",
    "完全搜索、啟發式搜索、隨機搜索<br/>\n",
    "根據目標函數，逐步加入特徵或刪除特徵<br/>"
   ]
  },
  {
   "cell_type": "markdown",
   "metadata": {},
   "source": [
    "## 使用 featex 選擇"
   ]
  },
  {
   "cell_type": "code",
   "execution_count": 44,
   "metadata": {},
   "outputs": [],
   "source": [
    "df = DataFrame({'Age': [10, 37, 17, 56, 33, 12, 72, 28, 15, 49, 16, 27, 19, 46, 23, 32, 22, 88, 55, 80, 10, 37, 17, 56, 33, 12, 72, 28, 15, 49, 16, 27, 19, 46, 23, 32, 22, 88, 55, 80],\n",
    "                'Sex': ['M', 'F', 'F', 'M', 'F', 'F', 'M', 'M', 'M', 'M', 'M', 'F', 'F', 'M', 'F', 'F', 'M', 'M', 'M', 'M', 'M', 'F', 'F', 'M', 'F', 'F', 'M', 'M', 'M', 'M', 'M', 'F', 'F', 'M', 'F', 'F', 'M', 'M', 'M', 'M'],\n",
    "                'Buy': [10, 250, 50, 0, 180, 0, 300, 90, 0, 320, 50, 140, 40, 280, 190, 150, 0, 650, 170, 500, 10, 250, 50, 0, 180, 0, 300, 90, 0, 320, 50, 140, 40, 280, 190, 150, 0, 650, 170, 500]})\n",
    "\n",
    "df_ = df.copy()\n",
    "# df_ = simple_encoder(df)\n",
    "train_X = df_.iloc[:15]\n",
    "test_X = df_.iloc[15:]"
   ]
  },
  {
   "cell_type": "code",
   "execution_count": 45,
   "metadata": {},
   "outputs": [
    {
     "name": "stdout",
     "output_type": "stream",
     "text": [
      "                                            Plots for Age                                             \n",
      "                                           Train data plots                                           \n"
     ]
    },
    {
     "data": {
      "image/png": "[encoded data removed]",
      "text/plain": [
       "<Figure size 864x360 with 2 Axes>"
      ]
     },
     "metadata": {
      "needs_background": "light"
     },
     "output_type": "display_data"
    },
    {
     "name": "stdout",
     "output_type": "stream",
     "text": [
      "                                           Test data plots                                            \n"
     ]
    },
    {
     "data": {
      "image/png": "[encoded data removed]",
      "text/plain": [
       "<Figure size 864x360 with 2 Axes>"
      ]
     },
     "metadata": {
      "needs_background": "light"
     },
     "output_type": "display_data"
    },
    {
     "name": "stdout",
     "output_type": "stream",
     "text": [
      "--------------------------------------------------------------------------------------------------------------\n",
      "\n",
      "\n"
     ]
    }
   ],
   "source": [
    "get_univariate_plots(data=train_X, data_test=test_X, target_col='Buy', features_list=['Age'], bins=8)"
   ]
  },
  {
   "cell_type": "code",
   "execution_count": 46,
   "metadata": {},
   "outputs": [
    {
     "name": "stdout",
     "output_type": "stream",
     "text": [
      "Categorical features ['Sex'] ignored. Categorical features not supported yet.\n",
      "Returning stats for all numeric features\n",
      "  Feature  Trend_changes  Trend_changes_test  Trend_correlation\n",
      "0     Age              5                   3           0.969647\n"
     ]
    }
   ],
   "source": [
    "stats = get_trend_stats(data=train_X, target_col='Buy', data_test=test_X)\n",
    "print(stats)"
   ]
  },
  {
   "cell_type": "markdown",
   "metadata": {},
   "source": [
    "## 降維：PCA，LDA"
   ]
  },
  {
   "cell_type": "markdown",
   "metadata": {},
   "source": [
    "# 特徵評估：\n",
    "## ・cross_val_score\n",
    "## ・feature importance"
   ]
  },
  {
   "cell_type": "code",
   "execution_count": 47,
   "metadata": {},
   "outputs": [
    {
     "name": "stdout",
     "output_type": "stream",
     "text": [
      "    Name  Time  Score  Pass\n",
      "0    Sam    60     80     1\n",
      "1  James    30     30     0\n",
      "2  Cindy    50     50     0\n",
      "3  Penny    50     90     1\n",
      "4    Tom    60     60     1\n"
     ]
    }
   ],
   "source": [
    "df = DataFrame({'Name': ['Sam', 'James', 'Cindy', 'Penny', 'Tom'],\n",
    "                'Time': [60, 30, 50, 50, 60],\n",
    "                'Score': [80, 30, 50, 90, 60],\n",
    "                'Pass':[1, 0, 0, 1, 1]})\n",
    "print(df)"
   ]
  },
  {
   "cell_type": "code",
   "execution_count": 48,
   "metadata": {},
   "outputs": [
    {
     "name": "stdout",
     "output_type": "stream",
     "text": [
      "\n",
      "\n",
      "GradientBoostingClassifier:\n",
      "importance:\n",
      "Score    1.0\n",
      "Time     0.0\n",
      "dtype: float64\n",
      "\n",
      "cross_val_score: 0.5833333333333333\n",
      "\n",
      "LogisticRegression:\n",
      "cross_val_score: 0.75\n"
     ]
    }
   ],
   "source": [
    "train_Y = get_target(df, 'Pass')\n",
    "df_ = drop_cols(df, ['Pass', 'Name'])\n",
    "print()\n",
    "train_X = simple_encoder(df_)\n",
    "print()\n",
    "evaluate_classification(train_X, train_Y)"
   ]
  },
  {
   "cell_type": "code",
   "execution_count": 49,
   "metadata": {},
   "outputs": [
    {
     "name": "stdout",
     "output_type": "stream",
     "text": [
      "\n",
      "\n",
      "GradientBoostingRegressor:\n",
      "importance:\n",
      "Pass    0.775641\n",
      "Time    0.224359\n",
      "dtype: float64\n",
      "\n"
     ]
    }
   ],
   "source": [
    "train_Y = get_target(df, 'Score')\n",
    "df_ = drop_cols(df, ['Score', 'Name'])\n",
    "print()\n",
    "train_X = simple_encoder(df_)\n",
    "print()\n",
    "evaluate_regression(train_X, train_Y)"
   ]
  },
  {
   "cell_type": "markdown",
   "metadata": {},
   "source": [
    "## 葉編碼(leaf encoding)\n",
    "分類型特徵優化<br/>\n",
    "目的是重新標記資料，以擬合後的樹狀模型分歧條件，將資料離散化，這樣比人為判斷條件更精準，更符合資料的分布情形<br/>\n",
    "葉編碼編完後，因為特徵數量量較多，通常搭配邏輯斯回歸或者分解機做預測，其他模型較不適合"
   ]
  },
  {
   "cell_type": "code",
   "execution_count": 50,
   "metadata": {},
   "outputs": [
    {
     "name": "stdout",
     "output_type": "stream",
     "text": [
      "        A       B  C\n",
      "0  47.100  17.100  1\n",
      "1  10.500  30.500  0\n",
      "2  15.850  55.850  1\n",
      "3  34.375  94.375  1\n",
      "4   8.050  18.050  0\n"
     ]
    }
   ],
   "source": [
    "df = DataFrame({'A': [47.1, 10.5, 15.85, 34.375, 8.05, 8.05, 8.05, 7.8542, 61.175, 20.575, 7.25, 8.05, 34.6542, 63.3583, 23, 26., 47.1, 10.5, 15.85, 34.375, 8.05, 8.05, 8.05, 7.8542, 61.175, 20.575, 7.25, 8.05, 34.6542, 63.3583, 23, 26.],\n",
    "                'B': [17.1, 30.5, 55.85, 94.375, 18.05, 28.05, 38.05, 27.8542, 11.175, 10.575, 27.25, 38.05, 14.6542, 13.3583, 13, 26., 17.1, 30.5, 55.85, 94.375, 18.05, 28.05, 38.05, 27.8542, 11.175, 10.575, 27.25, 38.05, 14.6542, 13.3583, 13, 26.],\n",
    "                'C': [1, 0, 1, 1, 0, 0, 1, 0, 0, 0, 0, 1, 0, 0, 0, 1, 1, 0, 1, 1, 0, 0, 1, 0, 0, 0, 0, 1, 0, 0, 0, 1]})\n",
    "print(df.head())"
   ]
  },
  {
   "cell_type": "code",
   "execution_count": 51,
   "metadata": {},
   "outputs": [],
   "source": [
    "df_ = df.copy()\n",
    "train_Y = get_target(df_, 'C')\n",
    "df_ = drop_cols(df_, ['C'])\n",
    "df_ = simple_encoder(df_)\n",
    "train_X = df_\n",
    "\n",
    "train_X, test_X, train_Y, test_Y = train_test_split(train_X, train_Y, test_size=0.5)\n",
    "train_X, val_X, train_Y, val_Y = train_test_split(train_X, train_Y, test_size=0.5)"
   ]
  },
  {
   "cell_type": "code",
   "execution_count": 52,
   "metadata": {},
   "outputs": [
    {
     "name": "stderr",
     "output_type": "stream",
     "text": [
      "/Users/ianfan/anaconda3/envs/tensorflow/lib/python3.6/site-packages/sklearn/preprocessing/_encoders.py:415: FutureWarning: The handling of integer data will change in version 0.22. Currently, the categories are determined based on the range [0, max(values)], while in the future they will be determined based on the unique values.\n",
      "If you want the future behaviour and silence this warning, you can specify \"categories='auto'\".\n",
      "In case you used a LabelEncoder before this OneHotEncoder to convert the categories to integers, then you can now use the OneHotEncoder directly.\n",
      "  warnings.warn(msg, FutureWarning)\n"
     ]
    },
    {
     "data": {
      "image/png": "[encoded data removed]",
      "text/plain": [
       "<Figure size 432x288 with 1 Axes>"
      ]
     },
     "metadata": {
      "needs_background": "light"
     },
     "output_type": "display_data"
    }
   ],
   "source": [
    "# 梯度提升樹調整參數並擬合後, 再將葉編碼 (*.apply) 結果做獨熱 / 邏輯斯迴歸\n",
    "gdbt = GradientBoostingClassifier(subsample=0.93, n_estimators=320, min_samples_split=0.1, min_samples_leaf=0.3, \n",
    "                                  max_features=2, max_depth=4, learning_rate=0.16)\n",
    "gdbt.fit(train_X, train_Y)\n",
    "\n",
    "onehot = OneHotEncoder()\n",
    "onehot.fit(gdbt.apply(train_X)[:, :, 0])\n",
    "\n",
    "lr = LogisticRegression(solver='lbfgs', max_iter=1000)\n",
    "lr.fit(onehot.transform(gdbt.apply(val_X)[:, :, 0]), val_Y)\n",
    "\n",
    "# 將梯度提升樹+葉編碼+邏輯斯迴歸結果輸出\n",
    "pred_gdbt_lr = lr.predict_proba(onehot.transform(gdbt.apply(test_X)[:, :, 0]))[:, 1]\n",
    "fpr_gdbt_lr, tpr_gdbt_lr, _ = roc_curve(test_Y, pred_gdbt_lr)\n",
    "\n",
    "# 將梯度提升樹結果輸出\n",
    "pred_gdbt = gdbt.predict_proba(test_X)[:, 1]\n",
    "fpr_gdbt, tpr_gdbt, _ = roc_curve(test_Y, pred_gdbt)\n",
    "\n",
    "# 將結果繪圖\n",
    "plt.plot([0, 1], [0, 1], 'k--')\n",
    "plt.plot(fpr_gdbt, tpr_gdbt, label='GDBT')\n",
    "plt.plot(fpr_gdbt_lr, tpr_gdbt_lr, label='GDBT + LR')\n",
    "plt.xlabel('False positive rate')\n",
    "plt.ylabel('True positive rate')\n",
    "plt.title('ROC curve')\n",
    "plt.legend(loc='best')\n",
    "plt.show()"
   ]
  },
  {
   "cell_type": "code",
   "execution_count": 53,
   "metadata": {},
   "outputs": [
    {
     "name": "stderr",
     "output_type": "stream",
     "text": [
      "/Users/ianfan/anaconda3/envs/tensorflow/lib/python3.6/site-packages/sklearn/preprocessing/_encoders.py:415: FutureWarning: The handling of integer data will change in version 0.22. Currently, the categories are determined based on the range [0, max(values)], while in the future they will be determined based on the unique values.\n",
      "If you want the future behaviour and silence this warning, you can specify \"categories='auto'\".\n",
      "In case you used a LabelEncoder before this OneHotEncoder to convert the categories to integers, then you can now use the OneHotEncoder directly.\n",
      "  warnings.warn(msg, FutureWarning)\n"
     ]
    },
    {
     "data": {
      "image/png": "[encoded data removed]",
      "text/plain": [
       "<Figure size 432x288 with 1 Axes>"
      ]
     },
     "metadata": {
      "needs_background": "light"
     },
     "output_type": "display_data"
    }
   ],
   "source": [
    "## 隨機森林擬合後, 再將葉編碼 (*.apply) 結果做獨熱 / 邏輯斯迴歸\n",
    "rf = RandomForestClassifier(n_estimators=20, min_samples_split=10, min_samples_leaf=5, \n",
    "                            max_features=2, max_depth=3, bootstrap=True)\n",
    "rf.fit(train_X, train_Y)\n",
    "\n",
    "ohe = OneHotEncoder()\n",
    "ohe.fit(rf.apply(train_X))\n",
    "\n",
    "lr = LogisticRegression(solver='lbfgs', max_iter=1000)\n",
    "lr.fit(ohe.transform(rf.apply(val_X)), val_Y) # 隨機森林的葉編碼(.apply)不需要加上[:, :, 0], 直接用rf.apply()調用即可)\n",
    "\n",
    "# 將隨機森林+葉編碼+邏輯斯迴歸結果輸出\n",
    "pred_rf_lr = lr.predict_proba(ohe.transform(rf.apply(test_X)))[:, 1]\n",
    "fpr_rf_lr, tpr_rf_lr, _ = roc_curve(test_Y, pred_rf_lr)\n",
    "\n",
    "# 將隨機森林結果輸出\n",
    "pred_rf = rf.predict_proba(test_X)[:, 1]\n",
    "fpr_rf, tpr_rf, _ = roc_curve(test_Y, pred_rf)\n",
    "\n",
    "plt.plot([0, 1], [0, 1], 'k--')\n",
    "plt.plot(fpr_rf, tpr_rf, label='RF')\n",
    "plt.plot(fpr_rf_lr, tpr_rf_lr, label='RF + LR')\n",
    "\n",
    "plt.xlabel('False positive rate')\n",
    "plt.ylabel('True positive rate')\n",
    "plt.title('ROC curve')\n",
    "plt.legend(loc='best')\n",
    "plt.show()"
   ]
  },
  {
   "cell_type": "markdown",
   "metadata": {},
   "source": [
    "# 數據洩露（Data Leakage）"
   ]
  },
  {
   "cell_type": "markdown",
   "metadata": {},
   "source": [
    "在數據挖掘中，數據洩露（leakage）指的是：本來不應該出現在X里的、和目標y有關的數據，出現在了X中。如此一來，機器學習算法就會有好到不真實的表現\n",
    "\n",
    "## 數據洩露可以分為兩大類：\n",
    "### ・由於自己的疏忽，在交叉驗證、訓練過程中，產生的數據洩露\n",
    "在模型的訓練、選擇和交叉驗證時，我們只能接觸訓練集<br/>\n",
    "例：測試集數據被洩露到訓練集\n",
    "未來的信息被洩露到過去<br/>\n",
    "例：y是「病人是否患有癌症」，但是X包括了「病人是否接受腫瘤切除手術」\n",
    "### ・在數據競賽中，找到了理論上不能使用（但是也沒有明令禁止）的額外數據，從而提升分數\n",
    "例：反向工程「隨機的」用戶編碼，得出用戶的真名<br/>\n",
    "例：已知坐標，利用geocoder類型的服務推出所在城市<br/>"
   ]
  },
  {
   "cell_type": "markdown",
   "metadata": {},
   "source": [
    "# 經驗"
   ]
  },
  {
   "cell_type": "markdown",
   "metadata": {},
   "source": [
    "## 支付流水：\n",
    "反映出客戶的經濟實力和消費習慣<br/>\n",
    "賬戶間的複雜交易關係和異常金額時間地點的支付行為，都可以在反欺詐場景中應用，視為團伙作案或者反洗錢的重要指標<br/>\n",
    "### ・支付編號：日/周/月支付頻率\n",
    "### ・支付帳戶：來往賬戶數量、帳戶間關聯圖譜\n",
    "### ・支付時間：最早、最近的支付時間、支付時段分佈\n",
    "### ・支付金額：支付金額總和/平均值/最大值\n",
    "### ・支付地點：地點類型分佈、較頻繁地點\n",
    "### ・支付目的：較頻繁的目的\n",
    "### ・支付狀態：支付成功/失敗次數"
   ]
  },
  {
   "cell_type": "markdown",
   "metadata": {},
   "source": [
    "## 財富管理：\n",
    "體現出客戶的資金儲備和購買偏好。對風險偏好較低或較高的客服推薦不同金融產品\n",
    "### ・申購編號：申購頻率\n",
    "### ・申購時間：最早、最近的申購時間\n",
    "### ・申購金額：申購金額總和/平均值/最大值\n",
    "### ・產品類型：產品類型分佈、產品偏好\n",
    "### ・產品收益：收益總和、日均收益\n",
    "### ・持倉金額：當前持倉、歷史最大持倉、日均持倉"
   ]
  },
  {
   "cell_type": "markdown",
   "metadata": {},
   "source": [
    "## 貸款信息：\n",
    "各家資方信貸數據的共享。基於一個客戶在各個平台上的貸款申請、提現、還款信息，可以刻畫出這個客戶的還款意願和徵信表現，從而為其下一次的信貸申請決策提供建議。多個平台申請和在貸以及當前有貸款發生90天以上逾期的用戶，都會被其他平台列入自動拒絕的名單\n",
    "### ・申請編號：申請頻率\n",
    "### ・申請時間：最早、最近的申請時間\n",
    "### ・授信金額：授信金額總和/平均值/最大值\n",
    "### ・提現金額：授信金額總和/平均值/最大值、提現比例\n",
    "### ・資方類型：資方個數\n",
    "### ・申請狀態：申請通過/拒絕次數\n",
    "### ・還款時間：提前結清/正常/預期總天數\n",
    "### ・預期金額：逾期金額總和/最大值\n",
    "### ・還款狀態：已結清/正常/逾期比數"
   ]
  },
  {
   "cell_type": "markdown",
   "metadata": {},
   "source": [
    "## App登入：\n",
    "從SDK埋點獲取的各類app登錄數據中，我們可以分析出用戶在每個app上的停留時間，從而側面瞭解這個用戶的興趣愛好，甚至預測用戶的年齡和性別\n",
    "### ・登入編號：日/周/月登錄頻率\n",
    "### ・登入時間：最早、最近的登入時間、時段分佈\n",
    "### ・操作類型：操作類型分佈、業務線偏好"
   ]
  },
  {
   "cell_type": "markdown",
   "metadata": {},
   "source": [
    "## 電商流水\n",
    "從電商公司豐富的訂單流水數據中，可以挖掘出較為完整的客戶畫像。客戶Alice近一年內購買頻繁，但是平均單筆訂單金額較低，通常集中在生活用品以及水果生鮮，可以推斷出Alice應該是一位家庭婦女；而客戶Ben消費總金額較高，購買過車飾類產品，收貨地址集中在辦公場所，則大概率Ben是有車一族的白領青年\n",
    "### ・訂單編號：當月/近3個月/近6個月/近12個月訂單總數\n",
    "### ・sku編號：當月/近3個月/近6個月/近12個月商品總數\n",
    "### ・訂單時間：最早\\最近的訂單時間、近12個月有消費月份數\n",
    "### ・訂單金額：當月/近3個月/近6個月/近12個月訂單總金額/訂單最大金額/平均單筆訂單金額\n",
    "### ・訂單狀態：當月/近3個月/近6個月/近12個月實付金額占比\n",
    "### ・分期標誌：當月/近3個月/近6個月/近12個月分期訂單數佔比\n",
    "\n"
   ]
  },
  {
   "cell_type": "markdown",
   "metadata": {},
   "source": [
    "## 收貨地址：\n",
    "在信貸風控場景中，通常近一年內地址數量較少、地址穩定性高的用戶，貸款逾期風險更低；而對於地址變動頻繁或者不良紀錄的用戶，建議拒絕貨前申請，或者把這些收貨地址放到貸後催收之中\n",
    "### ・訂單編號：當月/近3個月/近6個月/近12個月使用收貨地址個數\n",
    "### ・收貨地址：收貨地址使用時長\n",
    "### ・地址類型：城市等級、區域等級、地址穩定性、是否有不良紀錄"
   ]
  },
  {
   "cell_type": "markdown",
   "metadata": {},
   "source": [
    "## 運營商信息：\n",
    "數據市場上比較常見的第三方數據源，可以用作各個場景下的身份證、姓名、手機號的三要素核驗，以及利用在網時長和在網狀態判斷一個用戶是否有欺詐風險。除去上面整理的簡單底層特徵，在實際工作中數據分析師和算法工程師們還需要針對不同的業務場景，利用規則和模型構造一些複雜特徵\n",
    "### ・通話數據：當月/近3個月/近6個月/近12個月通話量/通話次數、撥出/撥入/漫遊通話量/通話次數、通話時段分佈\n",
    "### ・流量數據：當月/近3個月/近6個月/近12個月流量、流量時段分佈\n",
    "### ・帳單訊息：當月/近3個月/近6個月/近12個月帳單金額平均值/最大值、當月儲值金額、當前欠費金額\n",
    "### ・客戶訊息：上網時長、在網狀態、名下手機號碼數量/上網設備數量/設備品牌\n",
    "### ・網路訪問：個類別App訪問總次數/總時長/活躍天數、App類別分佈"
   ]
  }
 ],
 "metadata": {
  "kernelspec": {
   "display_name": "Python 3",
   "language": "python",
   "name": "python3"
  },
  "language_info": {
   "codemirror_mode": {
    "name": "ipython",
    "version": 3
   },
   "file_extension": ".py",
   "mimetype": "text/x-python",
   "name": "python",
   "nbconvert_exporter": "python",
   "pygments_lexer": "ipython3",
   "version": "3.6.8"
  }
 },
 "nbformat": 4,
 "nbformat_minor": 2
}
