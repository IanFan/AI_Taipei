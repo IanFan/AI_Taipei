{
 "cells": [
  {
   "cell_type": "markdown",
   "metadata": {},
   "source": [
    "### 載入工具"
   ]
  },
  {
   "cell_type": "code",
   "execution_count": 17,
   "metadata": {},
   "outputs": [],
   "source": [
    "import os\n",
    "import pandas as pd\n",
    "from pandas import DataFrame\n",
    "from keras.models import Sequential\n",
    "from keras.layers import Dense, Activation\n",
    "from keras.optimizers import Adam\n",
    "from keras.layers import Dropout\n",
    "from keras.layers import BatchNormalization\n",
    "from keras.utils import np_utils\n",
    "import matplotlib.pyplot as plt\n",
    "%matplotlib inline\n",
    "import numpy as np\n",
    "np.random.seed(1)"
   ]
  },
  {
   "cell_type": "markdown",
   "metadata": {},
   "source": [
    "### 資料：訓練集、標籤集"
   ]
  },
  {
   "cell_type": "code",
   "execution_count": 18,
   "metadata": {},
   "outputs": [
    {
     "name": "stdout",
     "output_type": "stream",
     "text": [
      "[-2.37565464 -4.61175641] [1. 1.]\n",
      "[-2.40087819 -1.17599438] [1. 0.]\n",
      "[0.69346593 2.07638048] [0. 1.]\n",
      "[4.72555052 3.67579578] [0. 0.]\n"
     ]
    },
    {
     "data": {
      "image/png": "[encoded data removed]",
      "text/plain": [
       "<Figure size 432x288 with 1 Axes>"
      ]
     },
     "metadata": {
      "needs_background": "light"
     },
     "output_type": "display_data"
    }
   ],
   "source": [
    "# fake data\n",
    "n_data = np.ones((100, 2))\n",
    "x0 = np.random.normal(-4*n_data, 1)     # class0 x shape=(100, 2)\n",
    "x1 = np.random.normal(-2*n_data, 1)     # class1 x shape=(100, 2)\n",
    "x2 = np.random.normal(2*n_data, 1)      # class0 x shape=(100, 2)\n",
    "x3 = np.random.normal(4*n_data, 1)      # class1 x shape=(100, 2)\n",
    "y0 = np.zeros((100, 2))                 # class0 y shape=(100, 2)\n",
    "y0[:,:] = 1  \n",
    "y1 = np.zeros((100, 2))                 # class1 y shape=(100, 2)\n",
    "y1[:,0] = 1 \n",
    "y2 = np.zeros((100, 2))                 # class2 y shape=(100, 2)\n",
    "y2[:,1] = 1 \n",
    "y3 = np.zeros((100, 2))                 # class3 y shape=(100, 2)\n",
    "x_train = np.vstack((x0, x1, x2, x3))   # shape (400, 2) + some noise\n",
    "y_train = np.vstack((y0, y1, y2, y3))   # shape (400, 2)\n",
    "\n",
    "print(x_train[0], y_train[0])\n",
    "print(x_train[100], y_train[100])\n",
    "print(x_train[200], y_train[200])\n",
    "print(x_train[-1], y_train[-1])\n",
    "\n",
    "colors = ['b','g','r','orange']\n",
    "for i in range(y_train.shape[0]):\n",
    "    c_index = 0\n",
    "    if (y_train[i, 0] > 0.5 and y_train[i, 1] > 0.5):\n",
    "        c_index = 0\n",
    "    elif (y_train[i, 0] >= 0.5 and y_train[i, 1] <= 0.5):\n",
    "        c_index = 1\n",
    "    elif (y_train[i, 0] <= 0.5 and y_train[i, 1] > 0.5):\n",
    "        c_index = 2\n",
    "    elif (y_train[i, 0] <= 0.5 and y_train[i, 1] <= 0.5):\n",
    "        c_index = 3\n",
    "    plt.scatter(x_train[i, 0], x_train[i, 1], c=colors[c_index], s=100, lw=0, cmap='RdYlGn')\n",
    "plt.show()"
   ]
  },
  {
   "cell_type": "markdown",
   "metadata": {},
   "source": [
    "### 建構 Model"
   ]
  },
  {
   "cell_type": "code",
   "execution_count": 19,
   "metadata": {},
   "outputs": [],
   "source": [
    "model = Sequential()\n",
    "\n",
    "model.add(Dense(input_dim=2, units=10, activation='relu'))\n",
    "model.add(Dense(units=2, activation='sigmoid'))\n",
    "\n",
    "model.compile(loss=('binary_crossentropy'), optimizer=Adam(lr=0.01), metrics=['accuracy'])"
   ]
  },
  {
   "cell_type": "markdown",
   "metadata": {},
   "source": [
    "### 訓練 Model"
   ]
  },
  {
   "cell_type": "code",
   "execution_count": 20,
   "metadata": {},
   "outputs": [
    {
     "name": "stdout",
     "output_type": "stream",
     "text": [
      "Epoch 1/30\n",
      "400/400 [==============================] - 0s 587us/step - loss: 0.7508 - acc: 0.5325\n",
      "Epoch 2/30\n",
      "400/400 [==============================] - 0s 28us/step - loss: 0.5860 - acc: 0.6400\n",
      "Epoch 3/30\n",
      "400/400 [==============================] - 0s 16us/step - loss: 0.5027 - acc: 0.7388\n",
      "Epoch 4/30\n",
      "400/400 [==============================] - 0s 19us/step - loss: 0.4537 - acc: 0.7638\n",
      "Epoch 5/30\n",
      "400/400 [==============================] - 0s 14us/step - loss: 0.4158 - acc: 0.7563\n",
      "Epoch 6/30\n",
      "400/400 [==============================] - 0s 15us/step - loss: 0.3855 - acc: 0.7400\n",
      "Epoch 7/30\n",
      "400/400 [==============================] - 0s 18us/step - loss: 0.3590 - acc: 0.7975\n",
      "Epoch 8/30\n",
      "400/400 [==============================] - 0s 13us/step - loss: 0.3379 - acc: 0.8237\n",
      "Epoch 9/30\n",
      "400/400 [==============================] - 0s 19us/step - loss: 0.3240 - acc: 0.8225\n",
      "Epoch 10/30\n",
      "400/400 [==============================] - 0s 14us/step - loss: 0.3155 - acc: 0.8175\n",
      "Epoch 11/30\n",
      "400/400 [==============================] - 0s 17us/step - loss: 0.3077 - acc: 0.8300\n",
      "Epoch 12/30\n",
      "400/400 [==============================] - 0s 16us/step - loss: 0.3017 - acc: 0.8425\n",
      "Epoch 13/30\n",
      "400/400 [==============================] - 0s 14us/step - loss: 0.2941 - acc: 0.8313\n",
      "Epoch 14/30\n",
      "400/400 [==============================] - 0s 17us/step - loss: 0.2888 - acc: 0.8362\n",
      "Epoch 15/30\n",
      "400/400 [==============================] - 0s 13us/step - loss: 0.2827 - acc: 0.8513\n",
      "Epoch 16/30\n",
      "400/400 [==============================] - 0s 14us/step - loss: 0.2812 - acc: 0.8287\n",
      "Epoch 17/30\n",
      "400/400 [==============================] - 0s 18us/step - loss: 0.2740 - acc: 0.8425\n",
      "Epoch 18/30\n",
      "400/400 [==============================] - 0s 13us/step - loss: 0.2688 - acc: 0.8525\n",
      "Epoch 19/30\n",
      "400/400 [==============================] - 0s 15us/step - loss: 0.2638 - acc: 0.8400\n",
      "Epoch 20/30\n",
      "400/400 [==============================] - 0s 14us/step - loss: 0.2567 - acc: 0.8500\n",
      "Epoch 21/30\n",
      "400/400 [==============================] - 0s 13us/step - loss: 0.2519 - acc: 0.8562\n",
      "Epoch 22/30\n",
      "400/400 [==============================] - 0s 15us/step - loss: 0.2466 - acc: 0.8575\n",
      "Epoch 23/30\n",
      "400/400 [==============================] - 0s 13us/step - loss: 0.2406 - acc: 0.8738\n",
      "Epoch 24/30\n",
      "400/400 [==============================] - 0s 15us/step - loss: 0.2373 - acc: 0.8762\n",
      "Epoch 25/30\n",
      "400/400 [==============================] - 0s 16us/step - loss: 0.2331 - acc: 0.8862\n",
      "Epoch 26/30\n",
      "400/400 [==============================] - 0s 12us/step - loss: 0.2266 - acc: 0.9025\n",
      "Epoch 27/30\n",
      "400/400 [==============================] - 0s 17us/step - loss: 0.2198 - acc: 0.9113\n",
      "Epoch 28/30\n",
      "400/400 [==============================] - 0s 12us/step - loss: 0.2186 - acc: 0.9088\n",
      "Epoch 29/30\n",
      "400/400 [==============================] - 0s 12us/step - loss: 0.2124 - acc: 0.9062\n",
      "Epoch 30/30\n",
      "400/400 [==============================] - 0s 17us/step - loss: 0.2057 - acc: 0.9288\n"
     ]
    },
    {
     "data": {
      "text/plain": [
       "<keras.callbacks.History at 0xb32850b70>"
      ]
     },
     "execution_count": 20,
     "metadata": {},
     "output_type": "execute_result"
    }
   ],
   "source": [
    "model.fit(x_train, y_train, epochs=30, batch_size=64)"
   ]
  },
  {
   "cell_type": "markdown",
   "metadata": {},
   "source": [
    "### 預測新資料"
   ]
  },
  {
   "cell_type": "code",
   "execution_count": 21,
   "metadata": {},
   "outputs": [
    {
     "name": "stdout",
     "output_type": "stream",
     "text": [
      "[[1.        0.9692811]]\n"
     ]
    },
    {
     "data": {
      "image/png": "[encoded data removed]",
      "text/plain": [
       "<Figure size 432x288 with 1 Axes>"
      ]
     },
     "metadata": {
      "needs_background": "light"
     },
     "output_type": "display_data"
    }
   ],
   "source": [
    "x_new = np.array([[-5, -5]])\n",
    "y_new = model.predict(x_new)\n",
    "print(y_new)\n",
    "\n",
    "# 畫圖\n",
    "p_ = model.predict(x_train)\n",
    "for i in range(len(p_)):\n",
    "            c_index = 0\n",
    "            if (p_[i, 0] > 0.5 and p_[i, 1] > 0.5):\n",
    "                c_index = 0\n",
    "            elif (p_[i, 0] > 0.5 and p_[i, 1] <= 0.5):\n",
    "                c_index = 1\n",
    "            elif (p_[i, 0] <= 0.5 and p_[i, 1] > 0.5):\n",
    "                c_index = 2\n",
    "            elif (p_[i, 0] <= 0.5 and p_[i, 1] <= 0.5):\n",
    "                c_index = 3\n",
    "            plt.scatter(x_train[i, 0], x_train[i, 1], c=colors[c_index], s=100, lw=0, cmap='RdYlGn')\n",
    "plt.scatter(x_new[:,0], x_new[:,1], c='k', s=300)\n",
    "plt.show()"
   ]
  },
  {
   "cell_type": "code",
   "execution_count": null,
   "metadata": {},
   "outputs": [],
   "source": []
  }
 ],
 "metadata": {
  "kernelspec": {
   "display_name": "Python 3",
   "language": "python",
   "name": "python3"
  },
  "language_info": {
   "codemirror_mode": {
    "name": "ipython",
    "version": 3
   },
   "file_extension": ".py",
   "mimetype": "text/x-python",
   "name": "python",
   "nbconvert_exporter": "python",
   "pygments_lexer": "ipython3",
   "version": "3.6.8"
  }
 },
 "nbformat": 4,
 "nbformat_minor": 2
}
