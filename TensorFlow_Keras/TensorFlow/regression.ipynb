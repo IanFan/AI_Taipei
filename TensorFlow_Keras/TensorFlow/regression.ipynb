{
 "cells": [
  {
   "cell_type": "markdown",
   "metadata": {},
   "source": [
    "## 載入工具"
   ]
  },
  {
   "cell_type": "code",
   "execution_count": 73,
   "metadata": {},
   "outputs": [],
   "source": [
    "import os\n",
    "import pandas as pd\n",
    "from pandas import DataFrame\n",
    "from keras.models import Sequential, Model\n",
    "from keras.layers import Input, Dense, Activation, Reshape\n",
    "from keras.optimizers import Adam\n",
    "from keras.layers import Dropout\n",
    "from keras.layers import BatchNormalization\n",
    "from keras.utils import np_utils\n",
    "import matplotlib.pyplot as plt\n",
    "%matplotlib inline\n",
    "import numpy as np\n",
    "np.random.seed(1)"
   ]
  },
  {
   "cell_type": "markdown",
   "metadata": {},
   "source": [
    "# 範例一：Sequential Model"
   ]
  },
  {
   "cell_type": "markdown",
   "metadata": {},
   "source": [
    "## 資料：訓練集、標籤集"
   ]
  },
  {
   "cell_type": "code",
   "execution_count": 141,
   "metadata": {},
   "outputs": [
    {
     "name": "stdout",
     "output_type": "stream",
     "text": [
      "(100, 1)\n"
     ]
    },
    {
     "data": {
      "text/plain": [
       "[<matplotlib.lines.Line2D at 0xb3d8ea6d8>]"
      ]
     },
     "execution_count": 141,
     "metadata": {},
     "output_type": "execute_result"
    },
    {
     "data": {
      "image/png": "[encoded data removed]",
      "text/plain": [
       "<Figure size 432x288 with 1 Axes>"
      ]
     },
     "metadata": {
      "needs_background": "light"
     },
     "output_type": "display_data"
    }
   ],
   "source": [
    "# 產生資料\n",
    "x_train = np.linspace(0, 25, 100)[:, np.newaxis]/(5*np.pi)\n",
    "noise = np.random.normal(0, 0.1, size=x_train.shape)\n",
    "y_train = np.sin(x_train) + noise\n",
    "print(x_train.shape)\n",
    "\n",
    "# 畫圖\n",
    "plt.figure()\n",
    "plt.plot(x_train, y_train, \"b^\")"
   ]
  },
  {
   "cell_type": "markdown",
   "metadata": {},
   "source": [
    "## 建構 Model"
   ]
  },
  {
   "cell_type": "code",
   "execution_count": 142,
   "metadata": {},
   "outputs": [],
   "source": [
    "model = Sequential()\n",
    "model.add(Dense(input_dim=1, units=1))\n",
    "\n",
    "model.compile(loss='mse', optimizer=Adam(lr=0.1))"
   ]
  },
  {
   "cell_type": "markdown",
   "metadata": {},
   "source": [
    "## 訓練 Model"
   ]
  },
  {
   "cell_type": "code",
   "execution_count": 143,
   "metadata": {},
   "outputs": [
    {
     "name": "stdout",
     "output_type": "stream",
     "text": [
      "Epoch 1/30\n",
      "100/100 [==============================] - 1s 10ms/step - loss: 0.2755\n",
      "Epoch 2/30\n",
      "100/100 [==============================] - 0s 32us/step - loss: 0.0653\n",
      "Epoch 3/30\n",
      "100/100 [==============================] - 0s 37us/step - loss: 0.0346\n",
      "Epoch 4/30\n",
      "100/100 [==============================] - 0s 33us/step - loss: 0.0942\n",
      "Epoch 5/30\n",
      "100/100 [==============================] - 0s 26us/step - loss: 0.0991\n",
      "Epoch 6/30\n",
      "100/100 [==============================] - 0s 22us/step - loss: 0.0541\n",
      "Epoch 7/30\n",
      "100/100 [==============================] - 0s 28us/step - loss: 0.0200\n",
      "Epoch 8/30\n",
      "100/100 [==============================] - 0s 27us/step - loss: 0.0199\n",
      "Epoch 9/30\n",
      "100/100 [==============================] - 0s 32us/step - loss: 0.0355\n",
      "Epoch 10/30\n",
      "100/100 [==============================] - 0s 34us/step - loss: 0.0398\n",
      "Epoch 11/30\n",
      "100/100 [==============================] - 0s 35us/step - loss: 0.0287\n",
      "Epoch 12/30\n",
      "100/100 [==============================] - 0s 25us/step - loss: 0.0155\n",
      "Epoch 13/30\n",
      "100/100 [==============================] - 0s 29us/step - loss: 0.0144\n",
      "Epoch 14/30\n",
      "100/100 [==============================] - 0s 36us/step - loss: 0.0195\n",
      "Epoch 15/30\n",
      "100/100 [==============================] - 0s 35us/step - loss: 0.0213\n",
      "Epoch 16/30\n",
      "100/100 [==============================] - 0s 27us/step - loss: 0.0173\n",
      "Epoch 17/30\n",
      "100/100 [==============================] - 0s 23us/step - loss: 0.0137\n",
      "Epoch 18/30\n",
      "100/100 [==============================] - 0s 30us/step - loss: 0.0134\n",
      "Epoch 19/30\n",
      "100/100 [==============================] - 0s 37us/step - loss: 0.0151\n",
      "Epoch 20/30\n",
      "100/100 [==============================] - 0s 29us/step - loss: 0.0153\n",
      "Epoch 21/30\n",
      "100/100 [==============================] - 0s 33us/step - loss: 0.0136\n",
      "Epoch 22/30\n",
      "100/100 [==============================] - 0s 30us/step - loss: 0.0129\n",
      "Epoch 23/30\n",
      "100/100 [==============================] - 0s 38us/step - loss: 0.0134\n",
      "Epoch 24/30\n",
      "100/100 [==============================] - 0s 33us/step - loss: 0.0137\n",
      "Epoch 25/30\n",
      "100/100 [==============================] - 0s 29us/step - loss: 0.0133\n",
      "Epoch 26/30\n",
      "100/100 [==============================] - 0s 21us/step - loss: 0.0128\n",
      "Epoch 27/30\n",
      "100/100 [==============================] - 0s 30us/step - loss: 0.0126\n",
      "Epoch 28/30\n",
      "100/100 [==============================] - 0s 35us/step - loss: 0.0130\n",
      "Epoch 29/30\n",
      "100/100 [==============================] - 0s 33us/step - loss: 0.0132\n",
      "Epoch 30/30\n",
      "100/100 [==============================] - 0s 30us/step - loss: 0.0128\n"
     ]
    },
    {
     "data": {
      "text/plain": [
       "[<matplotlib.lines.Line2D at 0xb3d5845f8>]"
      ]
     },
     "execution_count": 143,
     "metadata": {},
     "output_type": "execute_result"
    },
    {
     "data": {
      "image/png": "[encoded data removed]",
      "text/plain": [
       "<Figure size 432x288 with 1 Axes>"
      ]
     },
     "metadata": {
      "needs_background": "light"
     },
     "output_type": "display_data"
    }
   ],
   "source": [
    "# 訓練\n",
    "model.fit(x_train, y_train, epochs=30, batch_size=64)\n",
    "\n",
    "# 畫圖\n",
    "x_draw = np.linspace(0, 2, 100)[:,np.newaxis]\n",
    "y_draw = model.predict(x_draw)\n",
    "plt.cla()\n",
    "plt.plot(x_train, y_train, \"b^\")\n",
    "plt.plot(x_draw, y_draw, \"r-\")"
   ]
  },
  {
   "cell_type": "markdown",
   "metadata": {},
   "source": [
    "## 預測新資料"
   ]
  },
  {
   "cell_type": "code",
   "execution_count": 144,
   "metadata": {},
   "outputs": [
    {
     "data": {
      "image/png": "[encoded data removed]",
      "text/plain": [
       "<Figure size 432x288 with 1 Axes>"
      ]
     },
     "metadata": {
      "needs_background": "light"
     },
     "output_type": "display_data"
    }
   ],
   "source": [
    "# 產生新資料\n",
    "x_new = np.array([[1.2]])\n",
    "y_new = model.predict(x_new)\n",
    "\n",
    "# 畫圖\n",
    "plt.cla()\n",
    "plt.plot(x_train, y_train, \"b^\")\n",
    "plt.plot(x_new, y_new, \"r^\")\n",
    "plt.show()"
   ]
  },
  {
   "cell_type": "markdown",
   "metadata": {},
   "source": [
    "# 範例二：Functional Model"
   ]
  },
  {
   "cell_type": "markdown",
   "metadata": {},
   "source": [
    "## 資料：訓練集、標籤集"
   ]
  },
  {
   "cell_type": "code",
   "execution_count": 145,
   "metadata": {},
   "outputs": [
    {
     "name": "stdout",
     "output_type": "stream",
     "text": [
      "(100, 1)\n"
     ]
    },
    {
     "data": {
      "text/plain": [
       "[<matplotlib.lines.Line2D at 0xb3dd66860>]"
      ]
     },
     "execution_count": 145,
     "metadata": {},
     "output_type": "execute_result"
    },
    {
     "data": {
      "image/png": "[encoded data removed]",
      "text/plain": [
       "<Figure size 432x288 with 1 Axes>"
      ]
     },
     "metadata": {
      "needs_background": "light"
     },
     "output_type": "display_data"
    }
   ],
   "source": [
    "# 產生資料\n",
    "x_train = np.linspace(0, 25, 100)[:, np.newaxis]/(5*np.pi)\n",
    "noise = np.random.normal(0, 0.1, size=x_train.shape)\n",
    "y_train = np.sin(x_train) + noise\n",
    "print(x_train.shape)\n",
    "\n",
    "# 畫圖\n",
    "plt.figure()\n",
    "plt.plot(x_train, y_train, \"b^\")"
   ]
  },
  {
   "cell_type": "markdown",
   "metadata": {},
   "source": [
    "## 建構 Model"
   ]
  },
  {
   "cell_type": "code",
   "execution_count": 147,
   "metadata": {},
   "outputs": [],
   "source": [
    "inputs = Input(shape=(1,))\n",
    "predictions = Dense(1)(inputs)\n",
    "model = Model(inputs=inputs, outputs=predictions)\n",
    "\n",
    "model.compile(loss='mse', optimizer=Adam(lr=0.1))"
   ]
  },
  {
   "cell_type": "markdown",
   "metadata": {},
   "source": [
    "## 訓練"
   ]
  },
  {
   "cell_type": "code",
   "execution_count": 148,
   "metadata": {},
   "outputs": [
    {
     "name": "stdout",
     "output_type": "stream",
     "text": [
      "Epoch 1/30\n",
      "100/100 [==============================] - 1s 10ms/step - loss: 0.0254\n",
      "Epoch 2/30\n",
      "100/100 [==============================] - 0s 35us/step - loss: 0.0374\n",
      "Epoch 3/30\n",
      "100/100 [==============================] - 0s 60us/step - loss: 0.0175\n",
      "Epoch 4/30\n",
      "100/100 [==============================] - 0s 70us/step - loss: 0.0284\n",
      "Epoch 5/30\n",
      "100/100 [==============================] - 0s 45us/step - loss: 0.0194\n",
      "Epoch 6/30\n",
      "100/100 [==============================] - 0s 33us/step - loss: 0.0165\n",
      "Epoch 7/30\n",
      "100/100 [==============================] - 0s 37us/step - loss: 0.0208\n",
      "Epoch 8/30\n",
      "100/100 [==============================] - 0s 32us/step - loss: 0.0154\n",
      "Epoch 9/30\n",
      "100/100 [==============================] - 0s 30us/step - loss: 0.0153\n",
      "Epoch 10/30\n",
      "100/100 [==============================] - 0s 28us/step - loss: 0.0176\n",
      "Epoch 11/30\n",
      "100/100 [==============================] - 0s 37us/step - loss: 0.0148\n",
      "Epoch 12/30\n",
      "100/100 [==============================] - 0s 33us/step - loss: 0.0150\n",
      "Epoch 13/30\n",
      "100/100 [==============================] - 0s 38us/step - loss: 0.0155\n",
      "Epoch 14/30\n",
      "100/100 [==============================] - 0s 25us/step - loss: 0.0138\n",
      "Epoch 15/30\n",
      "100/100 [==============================] - 0s 38us/step - loss: 0.0147\n",
      "Epoch 16/30\n",
      "100/100 [==============================] - 0s 39us/step - loss: 0.0149\n",
      "Epoch 17/30\n",
      "100/100 [==============================] - 0s 33us/step - loss: 0.0139\n",
      "Epoch 18/30\n",
      "100/100 [==============================] - 0s 23us/step - loss: 0.0143\n",
      "Epoch 19/30\n",
      "100/100 [==============================] - 0s 31us/step - loss: 0.0140\n",
      "Epoch 20/30\n",
      "100/100 [==============================] - 0s 37us/step - loss: 0.0141\n",
      "Epoch 21/30\n",
      "100/100 [==============================] - 0s 32us/step - loss: 0.0141\n",
      "Epoch 22/30\n",
      "100/100 [==============================] - 0s 33us/step - loss: 0.0137\n",
      "Epoch 23/30\n",
      "100/100 [==============================] - 0s 26us/step - loss: 0.0138\n",
      "Epoch 24/30\n",
      "100/100 [==============================] - 0s 35us/step - loss: 0.0139\n",
      "Epoch 25/30\n",
      "100/100 [==============================] - 0s 34us/step - loss: 0.0137\n",
      "Epoch 26/30\n",
      "100/100 [==============================] - 0s 36us/step - loss: 0.0138\n",
      "Epoch 27/30\n",
      "100/100 [==============================] - 0s 26us/step - loss: 0.0137\n",
      "Epoch 28/30\n",
      "100/100 [==============================] - 0s 32us/step - loss: 0.0137\n",
      "Epoch 29/30\n",
      "100/100 [==============================] - 0s 35us/step - loss: 0.0142\n",
      "Epoch 30/30\n",
      "100/100 [==============================] - 0s 32us/step - loss: 0.0138\n"
     ]
    },
    {
     "data": {
      "text/plain": [
       "[<matplotlib.lines.Line2D at 0xb3b9657b8>]"
      ]
     },
     "execution_count": 148,
     "metadata": {},
     "output_type": "execute_result"
    },
    {
     "data": {
      "image/png": "[encoded data removed]",
      "text/plain": [
       "<Figure size 432x288 with 1 Axes>"
      ]
     },
     "metadata": {
      "needs_background": "light"
     },
     "output_type": "display_data"
    }
   ],
   "source": [
    "# 訓練\n",
    "model.fit(x_train, y_train, epochs=30, batch_size=64)\n",
    "\n",
    "# 畫圖\n",
    "x_draw = np.linspace(0, 2, 100)[:,np.newaxis]\n",
    "y_draw = model.predict(x_draw)\n",
    "plt.cla()\n",
    "plt.plot(x_train, y_train, \"b^\")\n",
    "plt.plot(x_draw, y_draw, \"r-\")"
   ]
  },
  {
   "cell_type": "markdown",
   "metadata": {},
   "source": [
    "# 範例三：DNN Model"
   ]
  },
  {
   "cell_type": "markdown",
   "metadata": {},
   "source": [
    "## 資料：訓練集、標籤集"
   ]
  },
  {
   "cell_type": "code",
   "execution_count": 149,
   "metadata": {},
   "outputs": [
    {
     "name": "stdout",
     "output_type": "stream",
     "text": [
      "(100, 1)\n"
     ]
    },
    {
     "data": {
      "text/plain": [
       "[<matplotlib.lines.Line2D at 0xb3dc57eb8>]"
      ]
     },
     "execution_count": 149,
     "metadata": {},
     "output_type": "execute_result"
    },
    {
     "data": {
      "image/png": "[encoded data removed]",
      "text/plain": [
       "<Figure size 432x288 with 1 Axes>"
      ]
     },
     "metadata": {
      "needs_background": "light"
     },
     "output_type": "display_data"
    }
   ],
   "source": [
    "# 產生資料\n",
    "x_train = np.linspace(0, 25, 100)[:, np.newaxis]/(5*np.pi)\n",
    "noise = np.random.normal(0, 0.1, size=x_train.shape)\n",
    "y_train = np.sin(x_train) + noise\n",
    "print(x_train.shape)\n",
    "\n",
    "# 畫圖\n",
    "plt.figure()\n",
    "plt.plot(x_train, y_train, \"b^\")"
   ]
  },
  {
   "cell_type": "markdown",
   "metadata": {},
   "source": [
    "## 建構 Model"
   ]
  },
  {
   "cell_type": "code",
   "execution_count": 150,
   "metadata": {},
   "outputs": [],
   "source": [
    "model = Sequential()\n",
    "model.add(Dense(input_dim=1, units=16, activation='relu'))\n",
    "model.add(Dense(units=32, activation='relu'))\n",
    "model.add(Dense(units=16, activation='relu'))\n",
    "model.add(Dense(units=1))\n",
    "\n",
    "model.compile(loss='mse', optimizer=Adam(lr=0.1))"
   ]
  },
  {
   "cell_type": "markdown",
   "metadata": {},
   "source": [
    "## 訓練"
   ]
  },
  {
   "cell_type": "code",
   "execution_count": 151,
   "metadata": {},
   "outputs": [
    {
     "name": "stdout",
     "output_type": "stream",
     "text": [
      "Epoch 1/50\n",
      "100/100 [==============================] - 1s 11ms/step - loss: 0.4042\n",
      "Epoch 2/50\n",
      "100/100 [==============================] - 0s 41us/step - loss: 1.3481\n",
      "Epoch 3/50\n",
      "100/100 [==============================] - 0s 48us/step - loss: 0.3532\n",
      "Epoch 4/50\n",
      "100/100 [==============================] - 0s 41us/step - loss: 0.3306\n",
      "Epoch 5/50\n",
      "100/100 [==============================] - 0s 35us/step - loss: 0.2056\n",
      "Epoch 6/50\n",
      "100/100 [==============================] - 0s 30us/step - loss: 0.1157\n",
      "Epoch 7/50\n",
      "100/100 [==============================] - 0s 32us/step - loss: 0.0637\n",
      "Epoch 8/50\n",
      "100/100 [==============================] - 0s 39us/step - loss: 0.0346\n",
      "Epoch 9/50\n",
      "100/100 [==============================] - 0s 32us/step - loss: 0.0182\n",
      "Epoch 10/50\n",
      "100/100 [==============================] - 0s 38us/step - loss: 0.0289\n",
      "Epoch 11/50\n",
      "100/100 [==============================] - 0s 33us/step - loss: 0.0367\n",
      "Epoch 12/50\n",
      "100/100 [==============================] - 0s 38us/step - loss: 0.0214\n",
      "Epoch 13/50\n",
      "100/100 [==============================] - 0s 38us/step - loss: 0.0218\n",
      "Epoch 14/50\n",
      "100/100 [==============================] - 0s 34us/step - loss: 0.0238\n",
      "Epoch 15/50\n",
      "100/100 [==============================] - 0s 37us/step - loss: 0.0230\n",
      "Epoch 16/50\n",
      "100/100 [==============================] - 0s 40us/step - loss: 0.0189\n",
      "Epoch 17/50\n",
      "100/100 [==============================] - 0s 41us/step - loss: 0.0152\n",
      "Epoch 18/50\n",
      "100/100 [==============================] - 0s 30us/step - loss: 0.0159\n",
      "Epoch 19/50\n",
      "100/100 [==============================] - 0s 35us/step - loss: 0.0157\n",
      "Epoch 20/50\n",
      "100/100 [==============================] - 0s 39us/step - loss: 0.0135\n",
      "Epoch 21/50\n",
      "100/100 [==============================] - 0s 37us/step - loss: 0.0139\n",
      "Epoch 22/50\n",
      "100/100 [==============================] - 0s 31us/step - loss: 0.0140\n",
      "Epoch 23/50\n",
      "100/100 [==============================] - 0s 34us/step - loss: 0.0111\n",
      "Epoch 24/50\n",
      "100/100 [==============================] - 0s 39us/step - loss: 0.0144\n",
      "Epoch 25/50\n",
      "100/100 [==============================] - 0s 37us/step - loss: 0.0138\n",
      "Epoch 26/50\n",
      "100/100 [==============================] - 0s 36us/step - loss: 0.0131\n",
      "Epoch 27/50\n",
      "100/100 [==============================] - 0s 38us/step - loss: 0.0148\n",
      "Epoch 28/50\n",
      "100/100 [==============================] - 0s 35us/step - loss: 0.0108\n",
      "Epoch 29/50\n",
      "100/100 [==============================] - 0s 41us/step - loss: 0.0125\n",
      "Epoch 30/50\n",
      "100/100 [==============================] - 0s 31us/step - loss: 0.0117\n",
      "Epoch 31/50\n",
      "100/100 [==============================] - 0s 34us/step - loss: 0.0106\n",
      "Epoch 32/50\n",
      "100/100 [==============================] - 0s 39us/step - loss: 0.0116\n",
      "Epoch 33/50\n",
      "100/100 [==============================] - 0s 39us/step - loss: 0.0104\n",
      "Epoch 34/50\n",
      "100/100 [==============================] - 0s 34us/step - loss: 0.0119\n",
      "Epoch 35/50\n",
      "100/100 [==============================] - 0s 41us/step - loss: 0.0123\n",
      "Epoch 36/50\n",
      "100/100 [==============================] - 0s 35us/step - loss: 0.0112\n",
      "Epoch 37/50\n",
      "100/100 [==============================] - 0s 36us/step - loss: 0.0117\n",
      "Epoch 38/50\n",
      "100/100 [==============================] - 0s 31us/step - loss: 0.0107\n",
      "Epoch 39/50\n",
      "100/100 [==============================] - 0s 34us/step - loss: 0.0104\n",
      "Epoch 40/50\n",
      "100/100 [==============================] - 0s 35us/step - loss: 0.0104\n",
      "Epoch 41/50\n",
      "100/100 [==============================] - 0s 39us/step - loss: 0.0102\n",
      "Epoch 42/50\n",
      "100/100 [==============================] - 0s 32us/step - loss: 0.0103\n",
      "Epoch 43/50\n",
      "100/100 [==============================] - 0s 39us/step - loss: 0.0104\n",
      "Epoch 44/50\n",
      "100/100 [==============================] - 0s 35us/step - loss: 0.0103\n",
      "Epoch 45/50\n",
      "100/100 [==============================] - 0s 40us/step - loss: 0.0104\n",
      "Epoch 46/50\n",
      "100/100 [==============================] - 0s 31us/step - loss: 0.0103\n",
      "Epoch 47/50\n",
      "100/100 [==============================] - 0s 33us/step - loss: 0.0101\n",
      "Epoch 48/50\n",
      "100/100 [==============================] - 0s 35us/step - loss: 0.0104\n",
      "Epoch 49/50\n",
      "100/100 [==============================] - 0s 39us/step - loss: 0.0104\n",
      "Epoch 50/50\n",
      "100/100 [==============================] - 0s 37us/step - loss: 0.0107\n"
     ]
    },
    {
     "data": {
      "text/plain": [
       "[<matplotlib.lines.Line2D at 0xb3e1e86d8>]"
      ]
     },
     "execution_count": 151,
     "metadata": {},
     "output_type": "execute_result"
    },
    {
     "data": {
      "image/png": "[encoded data removed]",
      "text/plain": [
       "<Figure size 432x288 with 1 Axes>"
      ]
     },
     "metadata": {
      "needs_background": "light"
     },
     "output_type": "display_data"
    }
   ],
   "source": [
    "# 訓練\n",
    "model.fit(x_train, y_train, epochs=50, batch_size=64)\n",
    "\n",
    "# 畫圖\n",
    "x_draw = np.linspace(0, 2, 100)[:,np.newaxis]\n",
    "y_draw = model.predict(x_draw)\n",
    "plt.cla()\n",
    "plt.plot(x_train, y_train, \"b^\")\n",
    "plt.plot(x_draw, y_draw, \"r-\")"
   ]
  },
  {
   "cell_type": "markdown",
   "metadata": {},
   "source": [
    "# 範例四：Dropout"
   ]
  },
  {
   "cell_type": "markdown",
   "metadata": {},
   "source": [
    "## 資料：訓練集、標籤集¶"
   ]
  },
  {
   "cell_type": "code",
   "execution_count": 152,
   "metadata": {},
   "outputs": [
    {
     "name": "stdout",
     "output_type": "stream",
     "text": [
      "(100, 1)\n"
     ]
    },
    {
     "data": {
      "text/plain": [
       "[<matplotlib.lines.Line2D at 0xb3e258dd8>]"
      ]
     },
     "execution_count": 152,
     "metadata": {},
     "output_type": "execute_result"
    },
    {
     "data": {
      "image/png": "[encoded data removed]",
      "text/plain": [
       "<Figure size 432x288 with 1 Axes>"
      ]
     },
     "metadata": {
      "needs_background": "light"
     },
     "output_type": "display_data"
    }
   ],
   "source": [
    "# 產生資料\n",
    "x_train = np.linspace(0, 25, 100)[:, np.newaxis]/(5*np.pi)\n",
    "noise = np.random.normal(0, 0.1, size=x_train.shape)\n",
    "y_train = np.sin(x_train) + noise\n",
    "print(x_train.shape)\n",
    "\n",
    "# 畫圖\n",
    "plt.figure()\n",
    "plt.plot(x_train, y_train, \"b^\")"
   ]
  },
  {
   "cell_type": "markdown",
   "metadata": {},
   "source": [
    "## 建構 Model"
   ]
  },
  {
   "cell_type": "code",
   "execution_count": 177,
   "metadata": {},
   "outputs": [],
   "source": [
    "model = Sequential()\n",
    "model.add(Dense(input_dim=1, units=16, activation='relu'))\n",
    "model.add(Dense(units=32, activation='relu'))\n",
    "model.add(Dense(units=16, activation='relu'))\n",
    "model.add(Dropout(rate=0.3))\n",
    "model.add(Dense(units=1))\n",
    "\n",
    "model.compile(loss='mse', optimizer=Adam(lr=0.1))"
   ]
  },
  {
   "cell_type": "markdown",
   "metadata": {},
   "source": [
    "## 訓練"
   ]
  },
  {
   "cell_type": "code",
   "execution_count": 178,
   "metadata": {},
   "outputs": [
    {
     "name": "stdout",
     "output_type": "stream",
     "text": [
      "Epoch 1/50\n",
      "100/100 [==============================] - 2s 15ms/step - loss: 1.7370\n",
      "Epoch 2/50\n",
      "100/100 [==============================] - 0s 49us/step - loss: 0.2218\n",
      "Epoch 3/50\n",
      "100/100 [==============================] - 0s 63us/step - loss: 0.3308\n",
      "Epoch 4/50\n",
      "100/100 [==============================] - 0s 68us/step - loss: 0.2023\n",
      "Epoch 5/50\n",
      "100/100 [==============================] - 0s 55us/step - loss: 0.1648\n",
      "Epoch 6/50\n",
      "100/100 [==============================] - 0s 48us/step - loss: 0.1613\n",
      "Epoch 7/50\n",
      "100/100 [==============================] - 0s 48us/step - loss: 0.1339\n",
      "Epoch 8/50\n",
      "100/100 [==============================] - 0s 46us/step - loss: 0.1186\n",
      "Epoch 9/50\n",
      "100/100 [==============================] - 0s 54us/step - loss: 0.0918\n",
      "Epoch 10/50\n",
      "100/100 [==============================] - 0s 45us/step - loss: 0.0994\n",
      "Epoch 11/50\n",
      "100/100 [==============================] - 0s 39us/step - loss: 0.1016\n",
      "Epoch 12/50\n",
      "100/100 [==============================] - 0s 47us/step - loss: 0.0576\n",
      "Epoch 13/50\n",
      "100/100 [==============================] - 0s 45us/step - loss: 0.0770\n",
      "Epoch 14/50\n",
      "100/100 [==============================] - 0s 42us/step - loss: 0.0575\n",
      "Epoch 15/50\n",
      "100/100 [==============================] - 0s 48us/step - loss: 0.0563\n",
      "Epoch 16/50\n",
      "100/100 [==============================] - 0s 46us/step - loss: 0.0514\n",
      "Epoch 17/50\n",
      "100/100 [==============================] - 0s 41us/step - loss: 0.0486\n",
      "Epoch 18/50\n",
      "100/100 [==============================] - 0s 44us/step - loss: 0.0751\n",
      "Epoch 19/50\n",
      "100/100 [==============================] - 0s 47us/step - loss: 0.0451\n",
      "Epoch 20/50\n",
      "100/100 [==============================] - 0s 48us/step - loss: 0.0414\n",
      "Epoch 21/50\n",
      "100/100 [==============================] - 0s 37us/step - loss: 0.0279\n",
      "Epoch 22/50\n",
      "100/100 [==============================] - 0s 46us/step - loss: 0.0316\n",
      "Epoch 23/50\n",
      "100/100 [==============================] - 0s 47us/step - loss: 0.0327\n",
      "Epoch 24/50\n",
      "100/100 [==============================] - 0s 42us/step - loss: 0.0371\n",
      "Epoch 25/50\n",
      "100/100 [==============================] - 0s 46us/step - loss: 0.0296\n",
      "Epoch 26/50\n",
      "100/100 [==============================] - 0s 44us/step - loss: 0.0353\n",
      "Epoch 27/50\n",
      "100/100 [==============================] - 0s 49us/step - loss: 0.0281\n",
      "Epoch 28/50\n",
      "100/100 [==============================] - 0s 44us/step - loss: 0.0265\n",
      "Epoch 29/50\n",
      "100/100 [==============================] - 0s 53us/step - loss: 0.0323\n",
      "Epoch 30/50\n",
      "100/100 [==============================] - 0s 49us/step - loss: 0.0325\n",
      "Epoch 31/50\n",
      "100/100 [==============================] - 0s 44us/step - loss: 0.0300\n",
      "Epoch 32/50\n",
      "100/100 [==============================] - 0s 46us/step - loss: 0.0331\n",
      "Epoch 33/50\n",
      "100/100 [==============================] - 0s 45us/step - loss: 0.0361\n",
      "Epoch 34/50\n",
      "100/100 [==============================] - 0s 40us/step - loss: 0.0272\n",
      "Epoch 35/50\n",
      "100/100 [==============================] - 0s 47us/step - loss: 0.0296\n",
      "Epoch 36/50\n",
      "100/100 [==============================] - 0s 44us/step - loss: 0.0278\n",
      "Epoch 37/50\n",
      "100/100 [==============================] - 0s 39us/step - loss: 0.0301\n",
      "Epoch 38/50\n",
      "100/100 [==============================] - 0s 40us/step - loss: 0.0304\n",
      "Epoch 39/50\n",
      "100/100 [==============================] - 0s 43us/step - loss: 0.0273\n",
      "Epoch 40/50\n",
      "100/100 [==============================] - 0s 48us/step - loss: 0.0265\n",
      "Epoch 41/50\n",
      "100/100 [==============================] - 0s 43us/step - loss: 0.0228\n",
      "Epoch 42/50\n",
      "100/100 [==============================] - 0s 52us/step - loss: 0.0280\n",
      "Epoch 43/50\n",
      "100/100 [==============================] - 0s 45us/step - loss: 0.0289\n",
      "Epoch 44/50\n",
      "100/100 [==============================] - 0s 44us/step - loss: 0.0219\n",
      "Epoch 45/50\n",
      "100/100 [==============================] - 0s 54us/step - loss: 0.0243\n",
      "Epoch 46/50\n",
      "100/100 [==============================] - 0s 49us/step - loss: 0.0177\n",
      "Epoch 47/50\n",
      "100/100 [==============================] - 0s 45us/step - loss: 0.0295\n",
      "Epoch 48/50\n",
      "100/100 [==============================] - 0s 58us/step - loss: 0.0296\n",
      "Epoch 49/50\n",
      "100/100 [==============================] - 0s 50us/step - loss: 0.0270\n",
      "Epoch 50/50\n",
      "100/100 [==============================] - 0s 50us/step - loss: 0.0290\n"
     ]
    },
    {
     "data": {
      "text/plain": [
       "[<matplotlib.lines.Line2D at 0xb435c3710>]"
      ]
     },
     "execution_count": 178,
     "metadata": {},
     "output_type": "execute_result"
    },
    {
     "data": {
      "image/png": "[encoded data removed]",
      "text/plain": [
       "<Figure size 432x288 with 1 Axes>"
      ]
     },
     "metadata": {
      "needs_background": "light"
     },
     "output_type": "display_data"
    }
   ],
   "source": [
    "# 訓練\n",
    "model.fit(x_train, y_train, epochs=50, batch_size=64)\n",
    "\n",
    "# 畫圖\n",
    "x_draw = np.linspace(0, 2, 100)[:,np.newaxis]\n",
    "y_draw = model.predict(x_draw)\n",
    "plt.cla()\n",
    "plt.plot(x_train, y_train, \"b^\")\n",
    "plt.plot(x_draw, y_draw, \"r-\")"
   ]
  },
  {
   "cell_type": "markdown",
   "metadata": {},
   "source": [
    "## HW 練習"
   ]
  },
  {
   "cell_type": "code",
   "execution_count": 179,
   "metadata": {},
   "outputs": [
    {
     "name": "stdout",
     "output_type": "stream",
     "text": [
      "(200, 1)\n"
     ]
    },
    {
     "data": {
      "text/plain": [
       "[<matplotlib.lines.Line2D at 0xb4222b080>]"
      ]
     },
     "execution_count": 179,
     "metadata": {},
     "output_type": "execute_result"
    },
    {
     "data": {
      "image/png": "[encoded data removed]",
      "text/plain": [
       "<Figure size 432x288 with 1 Axes>"
      ]
     },
     "metadata": {
      "needs_background": "light"
     },
     "output_type": "display_data"
    }
   ],
   "source": [
    "# 產生資料\n",
    "x_train = np.linspace(0, 100, 200)[:, np.newaxis]/(5*np.pi)\n",
    "noise = np.random.normal(0, 0.1, size=x_train.shape)\n",
    "y_train = np.sin(x_train) + noise\n",
    "print(x_train.shape)\n",
    "\n",
    "# 畫圖\n",
    "plt.figure()\n",
    "plt.plot(x_train, y_train, \"b^\")"
   ]
  },
  {
   "cell_type": "markdown",
   "metadata": {},
   "source": [
    "## 模型，練習調整參數"
   ]
  },
  {
   "cell_type": "code",
   "execution_count": 186,
   "metadata": {},
   "outputs": [
    {
     "name": "stdout",
     "output_type": "stream",
     "text": [
      "Epoch 1/30\n",
      "200/200 [==============================] - 2s 9ms/step - loss: 0.4128\n",
      "Epoch 2/30\n",
      "200/200 [==============================] - 0s 39us/step - loss: 0.3618\n",
      "Epoch 3/30\n",
      "200/200 [==============================] - 0s 46us/step - loss: 0.3216\n",
      "Epoch 4/30\n",
      "200/200 [==============================] - 0s 29us/step - loss: 0.3019\n",
      "Epoch 5/30\n",
      "200/200 [==============================] - 0s 38us/step - loss: 0.2559\n",
      "Epoch 6/30\n",
      "200/200 [==============================] - 0s 37us/step - loss: 0.2223\n",
      "Epoch 7/30\n",
      "200/200 [==============================] - 0s 38us/step - loss: 0.2133\n",
      "Epoch 8/30\n",
      "200/200 [==============================] - 0s 35us/step - loss: 0.1838\n",
      "Epoch 9/30\n",
      "200/200 [==============================] - 0s 39us/step - loss: 0.1883\n",
      "Epoch 10/30\n",
      "200/200 [==============================] - 0s 35us/step - loss: 0.1753\n",
      "Epoch 11/30\n",
      "200/200 [==============================] - 0s 32us/step - loss: 0.1772\n",
      "Epoch 12/30\n",
      "200/200 [==============================] - 0s 40us/step - loss: 0.1982\n",
      "Epoch 13/30\n",
      "200/200 [==============================] - 0s 35us/step - loss: 0.1540\n",
      "Epoch 14/30\n",
      "200/200 [==============================] - 0s 42us/step - loss: 0.1645\n",
      "Epoch 15/30\n",
      "200/200 [==============================] - 0s 32us/step - loss: 0.1500\n",
      "Epoch 16/30\n",
      "200/200 [==============================] - 0s 37us/step - loss: 0.1468\n",
      "Epoch 17/30\n",
      "200/200 [==============================] - 0s 35us/step - loss: 0.1300\n",
      "Epoch 18/30\n",
      "200/200 [==============================] - 0s 39us/step - loss: 0.1313\n",
      "Epoch 19/30\n",
      "200/200 [==============================] - 0s 35us/step - loss: 0.1239\n",
      "Epoch 20/30\n",
      "200/200 [==============================] - 0s 41us/step - loss: 0.1219\n",
      "Epoch 21/30\n",
      "200/200 [==============================] - 0s 32us/step - loss: 0.1239\n",
      "Epoch 22/30\n",
      "200/200 [==============================] - 0s 37us/step - loss: 0.1132\n",
      "Epoch 23/30\n",
      "200/200 [==============================] - 0s 39us/step - loss: 0.1088\n",
      "Epoch 24/30\n",
      "200/200 [==============================] - 0s 37us/step - loss: 0.1068\n",
      "Epoch 25/30\n",
      "200/200 [==============================] - 0s 38us/step - loss: 0.1047\n",
      "Epoch 26/30\n",
      "200/200 [==============================] - 0s 35us/step - loss: 0.1014\n",
      "Epoch 27/30\n",
      "200/200 [==============================] - 0s 38us/step - loss: 0.0993\n",
      "Epoch 28/30\n",
      "200/200 [==============================] - 0s 30us/step - loss: 0.1034\n",
      "Epoch 29/30\n",
      "200/200 [==============================] - 0s 40us/step - loss: 0.0986\n",
      "Epoch 30/30\n",
      "200/200 [==============================] - 0s 28us/step - loss: 0.0963\n"
     ]
    },
    {
     "data": {
      "text/plain": [
       "[<matplotlib.lines.Line2D at 0xb4724a7b8>]"
      ]
     },
     "execution_count": 186,
     "metadata": {},
     "output_type": "execute_result"
    },
    {
     "data": {
      "image/png": "[encoded data removed]",
      "text/plain": [
       "<Figure size 432x288 with 1 Axes>"
      ]
     },
     "metadata": {
      "needs_background": "light"
     },
     "output_type": "display_data"
    }
   ],
   "source": [
    "# 修改 Dense參數、Dropout參數\n",
    "model = Sequential()\n",
    "model.add(Dense(input_dim=1, units=10, activation='relu'))\n",
    "model.add(Dense(units=20, activation='relu'))\n",
    "model.add(Dense(units=10, activation='relu'))\n",
    "model.add(Dropout(rate=0.0))\n",
    "model.add(Dense(units=1))\n",
    "\n",
    "# 修改 lr(learning rate)參數\n",
    "model.compile(loss='mse', optimizer=Adam(lr=0.01))\n",
    "\n",
    "# 修改 epochs參數、batch_size參數\n",
    "model.fit(x_train, y_train, epochs=30, batch_size=64)\n",
    "\n",
    "# 畫圖\n",
    "x_draw = np.linspace(0, 8, 100)[:,np.newaxis]\n",
    "y_draw = model.predict(x_draw)\n",
    "plt.cla()\n",
    "plt.plot(x_train, y_train, \"b^\")\n",
    "plt.plot(x_draw, y_draw, \"r-\")"
   ]
  },
  {
   "cell_type": "code",
   "execution_count": null,
   "metadata": {},
   "outputs": [],
   "source": []
  }
 ],
 "metadata": {
  "kernelspec": {
   "display_name": "Python 3",
   "language": "python",
   "name": "python3"
  },
  "language_info": {
   "codemirror_mode": {
    "name": "ipython",
    "version": 3
   },
   "file_extension": ".py",
   "mimetype": "text/x-python",
   "name": "python",
   "nbconvert_exporter": "python",
   "pygments_lexer": "ipython3",
   "version": "3.6.8"
  }
 },
 "nbformat": 4,
 "nbformat_minor": 2
}
