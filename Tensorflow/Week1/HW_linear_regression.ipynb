{
 "cells": [
  {
   "cell_type": "markdown",
   "metadata": {},
   "source": [
    "### 載入工具"
   ]
  },
  {
   "cell_type": "code",
   "execution_count": 1,
   "metadata": {},
   "outputs": [],
   "source": [
    "import tensorflow as tf\n",
    "import numpy as np\n",
    "import matplotlib.pyplot as plt"
   ]
  },
  {
   "cell_type": "markdown",
   "metadata": {},
   "source": [
    "### 資料：訓練集、標籤集"
   ]
  },
  {
   "cell_type": "code",
   "execution_count": 2,
   "metadata": {},
   "outputs": [
    {
     "name": "stdout",
     "output_type": "stream",
     "text": [
      "(6, 1)\n"
     ]
    },
    {
     "data": {
      "image/png": "[encoded data removed]",
      "text/plain": [
       "<Figure size 432x288 with 1 Axes>"
      ]
     },
     "metadata": {
      "needs_background": "light"
     },
     "output_type": "display_data"
    }
   ],
   "source": [
    "x_train = np.array([[0], [1], [2], [3], [4], [5]], np.float32)\n",
    "y_train = np.array([[0.5], [1.2], [2.3], [3.8], [4.1], [5.5]], np.float32)\n",
    "\n",
    "plt.figure()\n",
    "plt.plot(x_train, y_train, \"b^\")\n",
    "txt = [0, 1, 2, 3, 4, 5]\n",
    "print(x_train.shape)\n",
    "for i in range(x_train.shape[0]):\n",
    "    plt.text(x_train[i][0], y_train[i][0], '(%.1f' % x_train[i][0] + ', %.1f)' % y_train[i][0], \n",
    "             fontdict={'size': 14, 'color': 'red'})\n"
   ]
  },
  {
   "cell_type": "markdown",
   "metadata": {},
   "source": [
    "### 建構 Tensorflow 的 Graph"
   ]
  },
  {
   "cell_type": "code",
   "execution_count": null,
   "metadata": {},
   "outputs": [],
   "source": [
    "'''\n",
    "Your code here↓\n",
    "'''\n",
    "x = tf.placeholder(tf.float32, [None, ])\n",
    "y = \n",
    "\n",
    "predict = tf.layers.dense(inputs=, units=)\n",
    "loss = tf.losses.mean_squared_error(labels=, predictions=)\n",
    "train = tf.train.GradientDescentOptimizer(learning_rate=).minimize(loss)\n",
    "'''\n",
    "Your code here↑\n",
    "'''"
   ]
  },
  {
   "cell_type": "markdown",
   "metadata": {},
   "source": [
    "### 創建 Session、初始變數、開始訓練"
   ]
  },
  {
   "cell_type": "code",
   "execution_count": null,
   "metadata": {},
   "outputs": [],
   "source": [
    "'''\n",
    "Your code here↓\n",
    "'''\n",
    "sess = tf.\n",
    "sess.run(tf.)\n",
    "'''\n",
    "Your code here↑\n",
    "'''\n",
    "\n",
    "for step in range(500):\n",
    "    '''\n",
    "    Your code here↓\n",
    "    '''\n",
    "    c_ , _ = sess.run([loss, train], feed_dict={x:, y:})\n",
    "    '''\n",
    "    Your code here↑\n",
    "    '''\n",
    "    if step%50 == 0:\n",
    "        print(\"loss: \", c_)\n",
    "        x_draw = np.linspace(0, 5, 100)[:,np.newaxis]\n",
    "        y_draw = sess.run(predict, feed_dict={x:x_draw})\n",
    "        plt.cla()\n",
    "        plt.plot(x_train, y_train, \"b^\")\n",
    "        plt.plot(x_draw, y_draw, \"r-\")\n",
    "        plt.pause(0.1)"
   ]
  },
  {
   "cell_type": "markdown",
   "metadata": {},
   "source": [
    "## 預測新資料"
   ]
  },
  {
   "cell_type": "code",
   "execution_count": null,
   "metadata": {},
   "outputs": [],
   "source": [
    "x_new = [[1.2]]\n",
    "'''\n",
    "Your code here↓\n",
    "'''\n",
    "y_new = sess.run(, feed_dict={x:})\n",
    "'''\n",
    "Your code here↑↓\n",
    "'''\n",
    "\n",
    "plt.cla()\n",
    "plt.plot(x_train, y_train, \"b^\")\n",
    "plt.plot(x_new, y_new, \"r^\")\n",
    "plt.show()"
   ]
  },
  {
   "cell_type": "code",
   "execution_count": null,
   "metadata": {},
   "outputs": [],
   "source": []
  }
 ],
 "metadata": {
  "kernelspec": {
   "display_name": "Python 3",
   "language": "python",
   "name": "python3"
  },
  "language_info": {
   "codemirror_mode": {
    "name": "ipython",
    "version": 3
   },
   "file_extension": ".py",
   "mimetype": "text/x-python",
   "name": "python",
   "nbconvert_exporter": "python",
   "pygments_lexer": "ipython3",
   "version": "3.6.7"
  }
 },
 "nbformat": 4,
 "nbformat_minor": 2
}
