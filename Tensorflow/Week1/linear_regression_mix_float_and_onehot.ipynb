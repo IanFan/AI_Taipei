{
 "cells": [
  {
   "cell_type": "markdown",
   "metadata": {},
   "source": [
    "### 載入工具"
   ]
  },
  {
   "cell_type": "code",
   "execution_count": 1,
   "metadata": {},
   "outputs": [],
   "source": [
    "import tensorflow as tf\n",
    "import numpy as np\n",
    "import matplotlib.pyplot as plt\n",
    "from sklearn.preprocessing import LabelEncoder\n",
    "from sklearn.preprocessing import OneHotEncoder"
   ]
  },
  {
   "cell_type": "markdown",
   "metadata": {},
   "source": [
    "### 資料：訓練集、標籤集"
   ]
  },
  {
   "cell_type": "code",
   "execution_count": 2,
   "metadata": {},
   "outputs": [
    {
     "name": "stdout",
     "output_type": "stream",
     "text": [
      "['cold' 'cold' 'warm' 'cold' 'hot' 'hot']\n",
      "\n",
      "integer_encoded\n",
      " [0 0 2 0 1 1]\n",
      "\n",
      "integer_encoded\n",
      " [[0]\n",
      " [0]\n",
      " [2]\n",
      " [0]\n",
      " [1]\n",
      " [1]]\n",
      "\n",
      "onehot_encoded\n",
      " [[1. 0. 0.]\n",
      " [1. 0. 0.]\n",
      " [0. 0. 1.]\n",
      " [1. 0. 0.]\n",
      " [0. 1. 0.]\n",
      " [0. 1. 0.]]\n"
     ]
    }
   ],
   "source": [
    "data = ['cold', 'cold', 'warm', 'cold', 'hot', 'hot']\n",
    "x = np.array(data)\n",
    "print(x)\n",
    "label_encoder = LabelEncoder()\n",
    "integer_encoded = label_encoder.fit_transform(x)\n",
    "print('\\ninteger_encoded\\n', integer_encoded)\n",
    "integer_encoded = integer_encoded[:, np.newaxis]\n",
    "print('\\ninteger_encoded\\n', integer_encoded)\n",
    "onehot_encoder = OneHotEncoder(sparse=False, categories='auto')\n",
    "onehot_encoded = onehot_encoder.fit_transform(integer_encoded)\n",
    "print('\\nonehot_encoded\\n', onehot_encoded)"
   ]
  },
  {
   "cell_type": "code",
   "execution_count": 3,
   "metadata": {},
   "outputs": [
    {
     "name": "stdout",
     "output_type": "stream",
     "text": [
      "[[1. 0. 0. 0.]\n",
      " [1. 0. 0. 1.]\n",
      " [0. 0. 1. 2.]\n",
      " [1. 0. 0. 3.]\n",
      " [0. 1. 0. 4.]\n",
      " [0. 1. 0. 5.]]\n",
      "(6, 4)\n"
     ]
    },
    {
     "data": {
      "image/png": "[encoded data removed]",
      "text/plain": [
       "<Figure size 432x288 with 1 Axes>"
      ]
     },
     "metadata": {
      "needs_background": "light"
     },
     "output_type": "display_data"
    }
   ],
   "source": [
    "x_train = np.array([[0], [1], [2], [3], [4], [5]], np.float32)\n",
    "x_train = np.hstack((onehot_encoded, x_train))\n",
    "y_train = np.array([[0.5], [1.2], [2.3], [3.8], [4.1], [5.5]], np.float32)\n",
    "print(x_train)\n",
    "plt.figure()\n",
    "plt.plot(x_train, y_train, \"b^\")\n",
    "txt = [0, 1, 2, 3, 4, 5]\n",
    "print(x_train.shape)\n",
    "for i in range(x_train.shape[0]):\n",
    "    plt.text(x_train[i][0], y_train[i][0], '(%.1f' % x_train[i][0] + ', %.1f)' % y_train[i][0], \n",
    "             fontdict={'size': 14, 'color': 'red'})\n"
   ]
  },
  {
   "cell_type": "markdown",
   "metadata": {},
   "source": [
    "### 建構 Tensorflow 的 Graph"
   ]
  },
  {
   "cell_type": "code",
   "execution_count": 4,
   "metadata": {},
   "outputs": [
    {
     "name": "stderr",
     "output_type": "stream",
     "text": [
      "WARNING: Logging before flag parsing goes to stderr.\n",
      "W0131 11:37:40.278349 4524852672 deprecation.py:323] From <ipython-input-4-bfd296ba2826>:4: dense (from tensorflow.python.layers.core) is deprecated and will be removed in a future version.\n",
      "Instructions for updating:\n",
      "Use keras.layers.dense instead.\n",
      "W0131 11:37:40.281626 4524852672 deprecation.py:506] From /Users/ianfan/anaconda3/envs/spinningup/lib/python3.6/site-packages/tensorflow/python/ops/init_ops.py:1253: calling VarianceScaling.__init__ (from tensorflow.python.ops.init_ops) with dtype is deprecated and will be removed in a future version.\n",
      "Instructions for updating:\n",
      "Call initializer instance with the dtype argument instead of passing it to the constructor\n"
     ]
    }
   ],
   "source": [
    "x = tf.placeholder(tf.float32, [None, 4])\n",
    "y = tf.placeholder(tf.float32, [None, 1])\n",
    "\n",
    "predict = tf.layers.dense(inputs=x, units=1)\n",
    "loss = tf.losses.mean_squared_error(labels=y, predictions=predict)\n",
    "train = tf.train.GradientDescentOptimizer(learning_rate=0.01).minimize(loss)"
   ]
  },
  {
   "cell_type": "markdown",
   "metadata": {},
   "source": [
    "### 創建 Session、初始變數、開始訓練"
   ]
  },
  {
   "cell_type": "code",
   "execution_count": 5,
   "metadata": {},
   "outputs": [
    {
     "name": "stdout",
     "output_type": "stream",
     "text": [
      "loss:  1.8881187\n",
      "loss:  0.11264571\n",
      "loss:  0.079868555\n",
      "loss:  0.06170206\n",
      "loss:  0.050280284\n",
      "loss:  0.042664554\n",
      "loss:  0.037441455\n",
      "loss:  0.03379644\n",
      "loss:  0.031214649\n",
      "loss:  0.02935799\n"
     ]
    }
   ],
   "source": [
    "sess = tf.Session()\n",
    "sess.run(tf.global_variables_initializer())\n",
    "\n",
    "for step in range(500):\n",
    "    c_ , _ = sess.run([loss, train], feed_dict={x:x_train, y:y_train})\n",
    "    if step%50 == 0:\n",
    "        print(\"loss: \", c_)"
   ]
  },
  {
   "cell_type": "markdown",
   "metadata": {},
   "source": [
    "## 預測新資料"
   ]
  },
  {
   "cell_type": "code",
   "execution_count": 6,
   "metadata": {},
   "outputs": [
    {
     "name": "stdout",
     "output_type": "stream",
     "text": [
      "[[3.7031007]]\n"
     ]
    },
    {
     "data": {
      "image/png": "[encoded data removed]",
      "text/plain": [
       "<Figure size 432x288 with 1 Axes>"
      ]
     },
     "metadata": {
      "needs_background": "light"
     },
     "output_type": "display_data"
    }
   ],
   "source": [
    "x_new = [[0,0,1,3.2]]\n",
    "y_new = sess.run(predict, feed_dict={x:x_new})\n",
    "print(y_new)\n",
    "\n",
    "plt.cla()\n",
    "plt.plot(x_train, y_train, \"b^\")\n",
    "plt.plot(x_new, y_new, \"r^\")\n",
    "plt.show()"
   ]
  },
  {
   "cell_type": "code",
   "execution_count": null,
   "metadata": {},
   "outputs": [],
   "source": []
  }
 ],
 "metadata": {
  "kernelspec": {
   "display_name": "Python 3",
   "language": "python",
   "name": "python3"
  },
  "language_info": {
   "codemirror_mode": {
    "name": "ipython",
    "version": 3
   },
   "file_extension": ".py",
   "mimetype": "text/x-python",
   "name": "python",
   "nbconvert_exporter": "python",
   "pygments_lexer": "ipython3",
   "version": "3.6.7"
  }
 },
 "nbformat": 4,
 "nbformat_minor": 2
}
