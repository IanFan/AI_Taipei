{
 "cells": [
  {
   "cell_type": "code",
   "execution_count": 1,
   "metadata": {},
   "outputs": [
    {
     "name": "stdout",
     "output_type": "stream",
     "text": [
      "step 0 cost 1.1286521\n",
      "step 100 cost 0.08462772\n",
      "step 200 cost 0.07223187\n",
      "step 300 cost 0.0625255\n",
      "step 400 cost 0.054124538\n",
      "step 500 cost 0.04685228\n",
      "step 600 cost 0.040557135\n",
      "step 700 cost 0.035107777\n",
      "step 800 cost 0.030390635\n",
      "step 900 cost 0.026307313\n",
      "step 1000 cost 0.02277259\n"
     ]
    },
    {
     "data": {
      "text/plain": [
       "'\\nTensorboard↑\\n'"
      ]
     },
     "execution_count": 1,
     "metadata": {},
     "output_type": "execute_result"
    }
   ],
   "source": [
    "import tensorflow as tf\n",
    "\n",
    "'''\n",
    "Tensorboard↓\n",
    "'''\n",
    "tf.reset_default_graph()\n",
    "'''\n",
    "Tensorboard↑\n",
    "'''\n",
    "\n",
    "x_train = [[1],[2],[3]]\n",
    "y_train = [[2],[3],[4]]\n",
    "\n",
    "x = tf.placeholder(tf.float32, shape=[None, 1])\n",
    "y = tf.placeholder(tf.float32, shape=[None, 1])\n",
    "predict = tf.layers.dense(x, 1)\n",
    "cost = tf.losses.mean_squared_error(predict, y)\n",
    "train = tf.train.GradientDescentOptimizer(learning_rate=0.003).minimize(cost)\n",
    "\n",
    "sess = tf.Session()\n",
    "sess.run(tf.global_variables_initializer())\n",
    "\n",
    "'''\n",
    "Tensorboard↓\n",
    "'''\n",
    "writer = tf.summary.FileWriter(\"./logs\")\n",
    "writer.add_graph(sess.graph)\n",
    "cost_sum = tf.summary.scalar(\"cost\", cost)\n",
    "summary =  tf.summary.merge_all()\n",
    "'''\n",
    "Tensorboard↑\n",
    "'''\n",
    "\n",
    "for step in range(1001):\n",
    "    '''\n",
    "    Tensorboard↓\n",
    "    '''\n",
    "    s, _ = sess.run([summary, train], feed_dict={x:x_train, y:y_train})\n",
    "    writer.add_summary(s, global_step=step)\n",
    "    '''\n",
    "    Tensorboard↑\n",
    "    '''\n",
    "    if step%100 == 0:\n",
    "        print('step', step, 'cost', sess.run(cost, feed_dict={x:x_train, y:y_train}))\n",
    "\n",
    "'''\n",
    "Tensorboard↓\n",
    "'''\n",
    "# 開terminal終端機，目錄為此python的資料夾\n",
    "# tensorboard --logdir=./logs\n",
    "# 用瀏覽器開啟提示的網址\n",
    "'''\n",
    "Tensorboard↑\n",
    "'''"
   ]
  },
  {
   "cell_type": "code",
   "execution_count": null,
   "metadata": {},
   "outputs": [],
   "source": []
  }
 ],
 "metadata": {
  "kernelspec": {
   "display_name": "Python 3",
   "language": "python",
   "name": "python3"
  },
  "language_info": {
   "codemirror_mode": {
    "name": "ipython",
    "version": 3
   },
   "file_extension": ".py",
   "mimetype": "text/x-python",
   "name": "python",
   "nbconvert_exporter": "python",
   "pygments_lexer": "ipython3",
   "version": "3.6.7"
  }
 },
 "nbformat": 4,
 "nbformat_minor": 2
}
