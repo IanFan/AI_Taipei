{
 "cells": [
  {
   "cell_type": "markdown",
   "metadata": {},
   "source": [
    "### 載入工具"
   ]
  },
  {
   "cell_type": "code",
   "execution_count": 1,
   "metadata": {},
   "outputs": [],
   "source": [
    "import tensorflow as tf\n",
    "import matplotlib\n",
    "matplotlib.use(\"TkAgg\")\n",
    "from matplotlib import pyplot as plt\n",
    "import numpy as np"
   ]
  },
  {
   "cell_type": "markdown",
   "metadata": {},
   "source": [
    "### 資料：訓練集、標籤集"
   ]
  },
  {
   "cell_type": "code",
   "execution_count": 2,
   "metadata": {},
   "outputs": [
    {
     "name": "stdout",
     "output_type": "stream",
     "text": [
      "(200, 2)\n",
      "[ 0.62434536 -1.61175641] [0. 1.]\n",
      "[0.59912181 1.82400562] [1. 0.]\n"
     ]
    }
   ],
   "source": [
    "tf.set_random_seed(1)\n",
    "np.random.seed(1)\n",
    "\n",
    "# fake data\n",
    "n_data = np.ones((100, 2))\n",
    "x0 = np.random.normal(-1*n_data, 1)     # class0 x shape=(100, 2)\n",
    "y0 = np.zeros((100, 2))                 # class0 y shape=(100, 2)\n",
    "y0[:,1] = 1                             # [[0, 1], ..., [0, 1]]\n",
    "x1 = np.random.normal(1*n_data, 1)      # class1 x shape=(100, 2)\n",
    "y1 = np.zeros((100, 2))                 # class0 y shape=(100, 2)\n",
    "y1[:,0] = 1                             # [[1, 0], ..., [1, 0]]\n",
    "x_train = np.vstack((x0, x1))           # shape (200, 2) + some noise\n",
    "y_train = np.vstack((y0, y1))           # shape (200, )\n",
    "print(y_train.shape)\n",
    "print(x_train[0], y_train[0])\n",
    "print(x_train[100], y_train[100])\n",
    "\n",
    "plt.scatter(x_train[:, 0], x_train[:, 1], c=y_train[:,0].reshape(200,), s=100, lw=0, cmap='RdYlGn')\n",
    "plt.show()"
   ]
  },
  {
   "cell_type": "markdown",
   "metadata": {},
   "source": [
    "### 建構 Tensorflow 的 Graph"
   ]
  },
  {
   "cell_type": "code",
   "execution_count": 6,
   "metadata": {},
   "outputs": [],
   "source": [
    "x = tf.placeholder(tf.float32, [None, 2])\n",
    "y = tf.placeholder(tf.float32, [None, 2])\n",
    "\n",
    "hypothesis = tf.layers.dense(x, 2)\n",
    "cost = tf.reduce_mean(tf.nn.softmax_cross_entropy_with_logits_v2(labels=y, logits=hypothesis))\n",
    "hypothesis = tf.nn.softmax(hypothesis)\n",
    "\n",
    "train = tf.train.GradientDescentOptimizer(learning_rate=0.003).minimize(cost)\n",
    "\n",
    "predict = tf.cast(tf.equal(tf.argmax(hypothesis, 1), tf.argmax(y, 1)), tf.float32) \n",
    "accuracy = tf.reduce_mean(predict)"
   ]
  },
  {
   "cell_type": "markdown",
   "metadata": {},
   "source": [
    "### 建 Session、初始變數、開始訓練"
   ]
  },
  {
   "cell_type": "code",
   "execution_count": 7,
   "metadata": {},
   "outputs": [
    {
     "name": "stdout",
     "output_type": "stream",
     "text": [
      "0 0.875 0.3924193\n",
      "100 0.92 0.34777373\n",
      "200 0.92 0.31787694\n",
      "300 0.925 0.29669538\n",
      "400 0.925 0.28102177\n",
      "500 0.93 0.26902136\n",
      "600 0.93 0.25957954\n",
      "700 0.935 0.25198466\n",
      "800 0.94 0.2457626\n",
      "900 0.945 0.24058688\n"
     ]
    },
    {
     "ename": "SystemExit",
     "evalue": "0",
     "output_type": "error",
     "traceback": [
      "An exception has occurred, use %tb to see the full traceback.\n",
      "\u001b[0;31mSystemExit\u001b[0m\u001b[0;31m:\u001b[0m 0\n"
     ]
    },
    {
     "name": "stderr",
     "output_type": "stream",
     "text": [
      "/Users/ianfan/anaconda3/envs/spinningup/lib/python3.6/site-packages/IPython/core/interactiveshell.py:3275: UserWarning: To exit: use 'exit', 'quit', or Ctrl-D.\n",
      "  warn(\"To exit: use 'exit', 'quit', or Ctrl-D.\", stacklevel=1)\n"
     ]
    }
   ],
   "source": [
    "sess = tf.Session()\n",
    "sess.run(tf.global_variables_initializer())\n",
    "\n",
    "for step in range(1000):\n",
    "    y_, a_, c_, _ = sess.run([hypothesis, accuracy, cost, train], feed_dict={x:x_train, y:y_train})\n",
    "#     y_, a_, c_, _ = sess.run([hypothesis, accuracy, cost, train], feed_dict={x:x_train, y:y_train})\n",
    "    if step%100 == 0:\n",
    "        plt.cla()\n",
    "        plt.scatter(x_train[:, 0], x_train[:, 1], c=y_[:,0].reshape(200, ), s=100, lw=0, cmap='RdYlGn')\n",
    "        plt.text(1.5, -4, 'Accuracy=%.3f' % a_, fontdict={'size': 20, 'color': 'red'})\n",
    "        plt.pause(0.1)\n",
    "        print(step, a_, c_)\n",
    "plt.show()"
   ]
  },
  {
   "cell_type": "markdown",
   "metadata": {},
   "source": [
    "### 預測新資料"
   ]
  },
  {
   "cell_type": "code",
   "execution_count": 8,
   "metadata": {},
   "outputs": [
    {
     "name": "stdout",
     "output_type": "stream",
     "text": [
      "[[0.09819791 0.90180206]]\n"
     ]
    },
    {
     "ename": "SystemExit",
     "evalue": "0",
     "output_type": "error",
     "traceback": [
      "An exception has occurred, use %tb to see the full traceback.\n",
      "\u001b[0;31mSystemExit\u001b[0m\u001b[0;31m:\u001b[0m 0\n"
     ]
    }
   ],
   "source": [
    "x_new = np.array([[-1, -1]])\n",
    "print(sess.run(hypothesis, feed_dict={x:x_new}))\n",
    "\n",
    "plt.scatter(x_train[:, 0], x_train[:, 1], c=y_[:,0].reshape(200, ), s=100, lw=0, cmap='RdYlGn')\n",
    "plt.scatter(x_new[0, 0], x_new[0, 1], c='purple', s=300)\n",
    "plt.show()"
   ]
  },
  {
   "cell_type": "code",
   "execution_count": null,
   "metadata": {},
   "outputs": [],
   "source": []
  }
 ],
 "metadata": {
  "kernelspec": {
   "display_name": "Python 3",
   "language": "python",
   "name": "python3"
  },
  "language_info": {
   "codemirror_mode": {
    "name": "ipython",
    "version": 3
   },
   "file_extension": ".py",
   "mimetype": "text/x-python",
   "name": "python",
   "nbconvert_exporter": "python",
   "pygments_lexer": "ipython3",
   "version": "3.6.7"
  }
 },
 "nbformat": 4,
 "nbformat_minor": 2
}
