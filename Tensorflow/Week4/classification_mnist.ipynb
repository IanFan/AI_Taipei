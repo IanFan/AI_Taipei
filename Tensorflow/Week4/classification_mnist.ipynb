{
 "cells": [
  {
   "cell_type": "markdown",
   "metadata": {},
   "source": [
    "### 載入工具"
   ]
  },
  {
   "cell_type": "code",
   "execution_count": null,
   "metadata": {},
   "outputs": [],
   "source": [
    "from tensorflow.examples.tutorials.mnist import input_data\n",
    "mnist = input_data.read_data_sets(\"MNIST_data/\", one_hot=True)"
   ]
  },
  {
   "cell_type": "code",
   "execution_count": null,
   "metadata": {},
   "outputs": [],
   "source": [
    "import tensorflow as tf\n",
    "import numpy as np\n",
    "import matplotlib\n",
    "# matplotlib.use(\"TkAgg\")\n",
    "import matplotlib.pyplot as plt\n",
    "from PIL import Image"
   ]
  },
  {
   "cell_type": "markdown",
   "metadata": {},
   "source": [
    "### 建構 Tensorflow 的 Graph"
   ]
  },
  {
   "cell_type": "code",
   "execution_count": null,
   "metadata": {},
   "outputs": [],
   "source": [
    "x = \n",
    "y = \n",
    "\n",
    "hypothesis = \n",
    "cost = \n",
    "hypothesis = \n",
    "\n",
    "h_class = tf.argmax(hypothesis, 1)\n",
    "y_class = tf.argmax(y, 1)\n",
    "correct = \n",
    "accuracy = \n",
    "\n",
    "train = "
   ]
  },
  {
   "cell_type": "markdown",
   "metadata": {},
   "source": [
    "### 建 Session、初始變數"
   ]
  },
  {
   "cell_type": "code",
   "execution_count": null,
   "metadata": {},
   "outputs": [],
   "source": [
    "sess = \n",
    "sess.run()"
   ]
  },
  {
   "cell_type": "markdown",
   "metadata": {},
   "source": [
    "### 開始訓練"
   ]
  },
  {
   "cell_type": "code",
   "execution_count": null,
   "metadata": {},
   "outputs": [],
   "source": [
    "training_epochs = 5\n",
    "batch_size = 100\n",
    "\n",
    "for epoch in range(training_epochs):\n",
    "    total_batch = int(mnist.train.num_examples/batch_size)\n",
    "    c_sum = 0.\n",
    "    for batch in range(total_batch):\n",
    "        x_train_batch, y_train_batch = mnist.train.next_batch(batch_size)\n",
    "        c, _ = sess.run([cost, train], feed_dict={x:x_train_batch, y:y_train_batch})\n",
    "        c_sum += c\n",
    "    avg_cost = float(c_sum/total_batch)\n",
    "    a_ = sess.run(accuracy, feed_dict={x: mnist.test.images, y: mnist.test.labels})\n",
    "    print(\"epoch:%4d\" % epoch, \"cost:%.9f\" % avg_cost, 'accuracy:%9f' % a_)"
   ]
  },
  {
   "cell_type": "markdown",
   "metadata": {},
   "source": [
    "### 預測新資料"
   ]
  },
  {
   "cell_type": "code",
   "execution_count": null,
   "metadata": {},
   "outputs": [],
   "source": [
    "im = Image.open(\"./my_image1.png\")\n",
    "print(np.array(im).shape)\n",
    "\n",
    "im = im.resize((28, 28), Image.ANTIALIAS) #resize the image\n",
    "im = np.array(im) #convert to an array\n",
    "im2 = im/np.max(im).astype(float) #normalise input\n",
    "\n",
    "'''\n",
    "plt.imshow(im2, cmap='gray')\n",
    "plt.title('My Image')\n",
    "plt.axis('off')\n",
    "plt.show()\n",
    "'''\n",
    "\n",
    "test_image = np.reshape(im2, [1,784]) # reshape it to our input placeholder shape\n",
    "\n",
    "h_ = sess.run(h_class, feed_dict={x:test_image})\n",
    "print(\"Predicted class : {}\" .format(h_))"
   ]
  },
  {
   "cell_type": "code",
   "execution_count": null,
   "metadata": {},
   "outputs": [],
   "source": []
  }
 ],
 "metadata": {
  "kernelspec": {
   "display_name": "Python 3",
   "language": "python",
   "name": "python3"
  },
  "language_info": {
   "codemirror_mode": {
    "name": "ipython",
    "version": 3
   },
   "file_extension": ".py",
   "mimetype": "text/x-python",
   "name": "python",
   "nbconvert_exporter": "python",
   "pygments_lexer": "ipython3",
   "version": "3.6.7"
  }
 },
 "nbformat": 4,
 "nbformat_minor": 2
}
