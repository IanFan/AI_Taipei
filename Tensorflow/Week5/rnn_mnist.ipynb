{
 "cells": [
  {
   "cell_type": "code",
   "execution_count": 1,
   "metadata": {},
   "outputs": [],
   "source": [
    "import tensorflow as tf\n",
    "from tensorflow.examples.tutorials.mnist import input_data\n",
    "import numpy as np\n",
    "import matplotlib.pyplot as plt"
   ]
  },
  {
   "cell_type": "code",
   "execution_count": 2,
   "metadata": {},
   "outputs": [
    {
     "name": "stderr",
     "output_type": "stream",
     "text": [
      "WARNING: Logging before flag parsing goes to stderr.\n",
      "W0201 09:33:09.890835 4630603200 deprecation.py:323] From <ipython-input-2-caf177eacab2>:12: read_data_sets (from tensorflow.contrib.learn.python.learn.datasets.mnist) is deprecated and will be removed in a future version.\n",
      "Instructions for updating:\n",
      "Please use alternatives such as official/mnist/dataset.py from tensorflow/models.\n",
      "W0201 09:33:09.891521 4630603200 deprecation.py:323] From /Users/ianfan/anaconda3/envs/spinningup/lib/python3.6/site-packages/tensorflow/contrib/learn/python/learn/datasets/mnist.py:260: maybe_download (from tensorflow.contrib.learn.python.learn.datasets.base) is deprecated and will be removed in a future version.\n",
      "Instructions for updating:\n",
      "Please write your own downloading logic.\n",
      "W0201 09:33:09.892360 4630603200 deprecation.py:323] From /Users/ianfan/anaconda3/envs/spinningup/lib/python3.6/site-packages/tensorflow/contrib/learn/python/learn/datasets/base.py:252: _internal_retry.<locals>.wrap.<locals>.wrapped_fn (from tensorflow.contrib.learn.python.learn.datasets.base) is deprecated and will be removed in a future version.\n",
      "Instructions for updating:\n",
      "Please use urllib or similar directly.\n",
      "W0201 09:33:20.048393 4630603200 deprecation.py:323] From /Users/ianfan/anaconda3/envs/spinningup/lib/python3.6/site-packages/tensorflow/contrib/learn/python/learn/datasets/mnist.py:262: extract_images (from tensorflow.contrib.learn.python.learn.datasets.mnist) is deprecated and will be removed in a future version.\n",
      "Instructions for updating:\n",
      "Please use tf.data to implement this functionality.\n"
     ]
    },
    {
     "name": "stdout",
     "output_type": "stream",
     "text": [
      "Successfully downloaded train-images-idx3-ubyte.gz 9912422 bytes.\n",
      "Extracting ./mnist/train-images-idx3-ubyte.gz\n"
     ]
    },
    {
     "name": "stderr",
     "output_type": "stream",
     "text": [
      "W0201 09:33:20.375849 4630603200 deprecation.py:323] From /Users/ianfan/anaconda3/envs/spinningup/lib/python3.6/site-packages/tensorflow/contrib/learn/python/learn/datasets/mnist.py:267: extract_labels (from tensorflow.contrib.learn.python.learn.datasets.mnist) is deprecated and will be removed in a future version.\n",
      "Instructions for updating:\n",
      "Please use tf.data to implement this functionality.\n",
      "W0201 09:33:20.380750 4630603200 deprecation.py:323] From /Users/ianfan/anaconda3/envs/spinningup/lib/python3.6/site-packages/tensorflow/contrib/learn/python/learn/datasets/mnist.py:110: dense_to_one_hot (from tensorflow.contrib.learn.python.learn.datasets.mnist) is deprecated and will be removed in a future version.\n",
      "Instructions for updating:\n",
      "Please use tf.one_hot on tensors.\n"
     ]
    },
    {
     "name": "stdout",
     "output_type": "stream",
     "text": [
      "Successfully downloaded train-labels-idx1-ubyte.gz 28881 bytes.\n",
      "Extracting ./mnist/train-labels-idx1-ubyte.gz\n"
     ]
    },
    {
     "name": "stderr",
     "output_type": "stream",
     "text": [
      "W0201 09:33:22.316982 4630603200 deprecation.py:323] From /Users/ianfan/anaconda3/envs/spinningup/lib/python3.6/site-packages/tensorflow/contrib/learn/python/learn/datasets/mnist.py:290: DataSet.__init__ (from tensorflow.contrib.learn.python.learn.datasets.mnist) is deprecated and will be removed in a future version.\n",
      "Instructions for updating:\n",
      "Please use alternatives such as official/mnist/dataset.py from tensorflow/models.\n"
     ]
    },
    {
     "name": "stdout",
     "output_type": "stream",
     "text": [
      "Successfully downloaded t10k-images-idx3-ubyte.gz 1648877 bytes.\n",
      "Extracting ./mnist/t10k-images-idx3-ubyte.gz\n",
      "Successfully downloaded t10k-labels-idx1-ubyte.gz 4542 bytes.\n",
      "Extracting ./mnist/t10k-labels-idx1-ubyte.gz\n",
      "(55000, 784)\n",
      "(55000, 10)\n"
     ]
    },
    {
     "data": {
      "image/png": "[encoded data removed]",
      "text/plain": [
       "<Figure size 432x288 with 1 Axes>"
      ]
     },
     "metadata": {
      "needs_background": "light"
     },
     "output_type": "display_data"
    },
    {
     "name": "stderr",
     "output_type": "stream",
     "text": [
      "W0201 09:33:23.834460 4630603200 deprecation.py:323] From <ipython-input-2-caf177eacab2>:35: BasicLSTMCell.__init__ (from tensorflow.python.ops.rnn_cell_impl) is deprecated and will be removed in a future version.\n",
      "Instructions for updating:\n",
      "This class is equivalent as tf.keras.layers.LSTMCell, and will be replaced by that in Tensorflow 2.0.\n",
      "W0201 09:33:23.835913 4630603200 deprecation.py:323] From <ipython-input-2-caf177eacab2>:41: dynamic_rnn (from tensorflow.python.ops.rnn) is deprecated and will be removed in a future version.\n",
      "Instructions for updating:\n",
      "Please use `keras.layers.RNN(cell)`, which is equivalent to this API\n",
      "W0201 09:33:23.895689 4630603200 deprecation.py:506] From /Users/ianfan/anaconda3/envs/spinningup/lib/python3.6/site-packages/tensorflow/python/ops/init_ops.py:1253: calling VarianceScaling.__init__ (from tensorflow.python.ops.init_ops) with dtype is deprecated and will be removed in a future version.\n",
      "Instructions for updating:\n",
      "Call initializer instance with the dtype argument instead of passing it to the constructor\n",
      "W0201 09:33:23.903409 4630603200 deprecation.py:506] From /Users/ianfan/anaconda3/envs/spinningup/lib/python3.6/site-packages/tensorflow/python/ops/rnn_cell_impl.py:734: calling Zeros.__init__ (from tensorflow.python.ops.init_ops) with dtype is deprecated and will be removed in a future version.\n",
      "Instructions for updating:\n",
      "Call initializer instance with the dtype argument instead of passing it to the constructor\n",
      "W0201 09:33:23.932992 4630603200 deprecation.py:323] From <ipython-input-2-caf177eacab2>:46: dense (from tensorflow.python.layers.core) is deprecated and will be removed in a future version.\n",
      "Instructions for updating:\n",
      "Use keras.layers.dense instead.\n",
      "W0201 09:33:24.232486 4630603200 deprecation.py:323] From /Users/ianfan/anaconda3/envs/spinningup/lib/python3.6/site-packages/tensorflow/python/ops/metrics_impl.py:455: to_float (from tensorflow.python.ops.math_ops) is deprecated and will be removed in a future version.\n",
      "Instructions for updating:\n",
      "Use tf.cast instead.\n"
     ]
    }
   ],
   "source": [
    "tf.set_random_seed(1)\n",
    "np.random.seed(1)\n",
    "\n",
    "# Hyper Parameters\n",
    "BATCH_SIZE = 60\n",
    "TIME_STEP = 28          # rnn time step / image height\n",
    "INPUT_SIZE = 28         # rnn input size / image width\n",
    "CELL_SIZE = 64\n",
    "LR = 0.01               # learning rate\n",
    "\n",
    "# data\n",
    "mnist = input_data.read_data_sets('./mnist', one_hot=True)              # they has been normalized to range (0,1)\n",
    "test_x = mnist.test.images[:2000]\n",
    "test_y = mnist.test.labels[:2000]\n",
    "\n",
    "# plot one example\n",
    "print(mnist.train.images.shape)     # (55000, 28 * 28)\n",
    "print(mnist.train.labels.shape)   # (55000, 10)\n",
    "plt.imshow(mnist.train.images[0].reshape((28, 28)), cmap='gray')\n",
    "plt.title('%i' % np.argmax(mnist.train.labels[0]))\n",
    "plt.pause(1)\n",
    "\n",
    "# tensorflow placeholders\n",
    "tf_x = tf.placeholder(tf.float32, [None, TIME_STEP * INPUT_SIZE])       # shape(batch, 784)\n",
    "image = tf.reshape(tf_x, [-1, TIME_STEP, INPUT_SIZE])                   # (batch, height, width, channel)\n",
    "tf_y = tf.placeholder(tf.int32, [None, 10])                             # input y\n",
    "\n",
    "# xi = tf.reshape(image, [-1, INPUT_SIZE])\n",
    "# wi = tf.Variable(tf.random_normal([INPUT_SIZE, CELL_SIZE]))\n",
    "# bi = tf.Variable(tf.zeros([CELL_SIZE]))\n",
    "# yi = tf.matmul(xi, wi) + bi\n",
    "# image = tf.reshape(yi, [-1, TIME_STEP, CELL_SIZE])\n",
    "\n",
    "# RNN\n",
    "rnn_cell = tf.contrib.rnn.BasicLSTMCell(num_units=CELL_SIZE)\n",
    "outputs, (h_c, h_n) = tf.nn.dynamic_rnn(\n",
    "    rnn_cell,                   # cell you have chosen\n",
    "    image,                      # input\n",
    "    initial_state=None,         # the initial hidden state\n",
    "    dtype=tf.float32,           # must given if set initial_state = None\n",
    "    time_major=False,           # False: (batch, time step, input); True: (time step, batch, input)\n",
    ")\n",
    "\n",
    "# outputs shape [BATCH_SIZE, TIME_STEP, CELL_SIZE]\n",
    "# o = tf.reshape(outputs, [-1, CELL_SIZE]\n",
    "output = tf.layers.dense(outputs[:, -1, :], 10)              # output based on the last output step\n",
    "\n",
    "loss = tf.losses.softmax_cross_entropy(onehot_labels=tf_y, logits=output)           # compute cost\n",
    "train_op = tf.train.AdamOptimizer(LR).minimize(loss)\n",
    "\n",
    "accuracy = tf.metrics.accuracy(          # return (acc, update_op), and create 2 local variables\n",
    "    labels=tf.argmax(tf_y, axis=1), predictions=tf.argmax(output, axis=1),)[1]"
   ]
  },
  {
   "cell_type": "code",
   "execution_count": 3,
   "metadata": {},
   "outputs": [],
   "source": [
    "sess = tf.Session()\n",
    "init_op = tf.group(tf.global_variables_initializer(), tf.local_variables_initializer()) # the local var is for accuracy_op\n",
    "sess.run(init_op)     # initialize var in graph"
   ]
  },
  {
   "cell_type": "code",
   "execution_count": 11,
   "metadata": {},
   "outputs": [
    {
     "name": "stdout",
     "output_type": "stream",
     "text": [
      "train loss: 0.0604 | test accuracy: 0.9575\n",
      "train loss: 0.0904 | test accuracy: 0.9576\n",
      "train loss: 0.0432 | test accuracy: 0.9577\n",
      "train loss: 0.0670 | test accuracy: 0.9579\n",
      "train loss: 0.0057 | test accuracy: 0.9580\n",
      "train loss: 0.0039 | test accuracy: 0.9581\n",
      "train loss: 0.1127 | test accuracy: 0.9582\n",
      "train loss: 0.0542 | test accuracy: 0.9582\n",
      "train loss: 0.0029 | test accuracy: 0.9583\n",
      "train loss: 0.0565 | test accuracy: 0.9584\n",
      "train loss: 0.0946 | test accuracy: 0.9585\n",
      "train loss: 0.0061 | test accuracy: 0.9586\n",
      "train loss: 0.0026 | test accuracy: 0.9587\n",
      "train loss: 0.0049 | test accuracy: 0.9588\n",
      "train loss: 0.1943 | test accuracy: 0.9589\n",
      "train loss: 0.0286 | test accuracy: 0.9590\n",
      "train loss: 0.0195 | test accuracy: 0.9591\n",
      "train loss: 0.0091 | test accuracy: 0.9592\n",
      "train loss: 0.0070 | test accuracy: 0.9593\n",
      "train loss: 0.0106 | test accuracy: 0.9594\n",
      "train loss: 0.0349 | test accuracy: 0.9595\n",
      "train loss: 0.0154 | test accuracy: 0.9595\n",
      "train loss: 0.0268 | test accuracy: 0.9596\n",
      "train loss: 0.0902 | test accuracy: 0.9597\n"
     ]
    }
   ],
   "source": [
    "for step in range(1200):    # training\n",
    "    b_x, b_y = mnist.train.next_batch(BATCH_SIZE)\n",
    "    o_, os_, _, loss_ = sess.run([output, outputs, train_op, loss], {tf_x: b_x, tf_y: b_y})\n",
    "    # print(\"output: \", np.array(o_).shape)\n",
    "    # print(\"outputs: \", np.array(os_).shape)\n",
    "    if step % 50 == 0:      # testing\n",
    "        accuracy_ = sess.run(accuracy, {tf_x: test_x, tf_y: test_y})\n",
    "        print('train loss: %.4f' % loss_, '| test accuracy: %.4f' % accuracy_)"
   ]
  },
  {
   "cell_type": "code",
   "execution_count": 12,
   "metadata": {},
   "outputs": [
    {
     "name": "stdout",
     "output_type": "stream",
     "text": [
      "[7 2 1 0 4 1 4 9 5 9 0 6 9 0 1 5 9 7 3 4 9 6 6 5 4 0 7 4 0 1 3 1 3 4 7 2 7\n",
      " 1 2 1 1 7 4 2 3 5 1 2 4 4 6 3 5 5 6 0 4 1 9 5 7 8 9 2 7 4 6 4 3 0 7 0 2 9\n",
      " 1 7 3 2 9 7 7 6 2 7 8 4 7 3 6 1 3 6 9 3 1 4 1 7 6 9] prediction number\n",
      "[7 2 1 0 4 1 4 9 5 9 0 6 9 0 1 5 9 7 3 4 9 6 6 5 4 0 7 4 0 1 3 1 3 4 7 2 7\n",
      " 1 2 1 1 7 4 2 3 5 1 2 4 4 6 3 5 5 6 0 4 1 9 5 7 8 9 3 7 4 6 4 3 0 7 0 2 9\n",
      " 1 7 3 2 9 7 7 6 2 7 8 4 7 3 6 1 3 6 9 3 1 4 1 7 6 9] real number\n"
     ]
    }
   ],
   "source": [
    "# print 10 predictions from test data\n",
    "test_output = sess.run(output, {tf_x: test_x[:10]})\n",
    "pred_y = np.argmax(test_output, 1)\n",
    "print(pred_y, 'prediction number')\n",
    "print(np.argmax(test_y[:10], 1), 'real number')"
   ]
  },
  {
   "cell_type": "code",
   "execution_count": null,
   "metadata": {},
   "outputs": [],
   "source": []
  }
 ],
 "metadata": {
  "kernelspec": {
   "display_name": "Python 3",
   "language": "python",
   "name": "python3"
  },
  "language_info": {
   "codemirror_mode": {
    "name": "ipython",
    "version": 3
   },
   "file_extension": ".py",
   "mimetype": "text/x-python",
   "name": "python",
   "nbconvert_exporter": "python",
   "pygments_lexer": "ipython3",
   "version": "3.6.7"
  }
 },
 "nbformat": 4,
 "nbformat_minor": 2
}
